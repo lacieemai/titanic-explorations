{
 "cells": [
  {
   "cell_type": "markdown",
   "metadata": {
    "papermill": {
     "duration": 0.043101,
     "end_time": "2021-02-02T13:25:20.475962",
     "exception": false,
     "start_time": "2021-02-02T13:25:20.432861",
     "status": "completed"
    },
    "tags": []
   },
   "source": [
    "# Part 0. Getting started"
   ]
  },
  {
   "cell_type": "code",
   "execution_count": 1,
   "metadata": {
    "_cell_guid": "b1076dfc-b9ad-4769-8c92-a6c4dae69d19",
    "_uuid": "8f2839f25d086af736a60e9eeb907d3b93b6e0e5",
    "execution": {
     "iopub.execute_input": "2021-02-02T13:25:20.562781Z",
     "iopub.status.busy": "2021-02-02T13:25:20.559343Z",
     "iopub.status.idle": "2021-02-02T13:25:22.531177Z",
     "shell.execute_reply": "2021-02-02T13:25:22.530479Z"
    },
    "papermill": {
     "duration": 2.01541,
     "end_time": "2021-02-02T13:25:22.531437",
     "exception": false,
     "start_time": "2021-02-02T13:25:20.516027",
     "status": "completed"
    },
    "tags": []
   },
   "outputs": [],
   "source": [
    "import numpy as np \n",
    "import pandas as pd \n",
    "pd.options.mode.chained_assignment = None\n",
    "\n",
    "from sklearn.model_selection import train_test_split, GridSearchCV\n",
    "from sklearn.ensemble import RandomForestClassifier\n",
    "from sklearn.neighbors import KNeighborsClassifier\n",
    "from sklearn.linear_model import RidgeClassifier, LinearRegression\n",
    "from sklearn import svm\n",
    "import xgboost as xgb"
   ]
  },
  {
   "cell_type": "markdown",
   "metadata": {
    "papermill": {
     "duration": 0.039309,
     "end_time": "2021-02-02T13:25:22.610461",
     "exception": false,
     "start_time": "2021-02-02T13:25:22.571152",
     "status": "completed"
    },
    "tags": []
   },
   "source": [
    "Creating two pandas dataframes with our data."
   ]
  },
  {
   "cell_type": "code",
   "execution_count": 2,
   "metadata": {
    "execution": {
     "iopub.execute_input": "2021-02-02T13:25:22.695317Z",
     "iopub.status.busy": "2021-02-02T13:25:22.694619Z",
     "iopub.status.idle": "2021-02-02T13:25:22.726796Z",
     "shell.execute_reply": "2021-02-02T13:25:22.726190Z"
    },
    "papermill": {
     "duration": 0.077088,
     "end_time": "2021-02-02T13:25:22.727111",
     "exception": false,
     "start_time": "2021-02-02T13:25:22.650023",
     "status": "completed"
    },
    "tags": []
   },
   "outputs": [],
   "source": [
    "test_data = pd.read_csv('../input/titanic/test.csv')\n",
    "train_data = pd.read_csv('../input/titanic/train.csv')\n",
    "comb = [train_data, test_data]"
   ]
  },
  {
   "cell_type": "markdown",
   "metadata": {
    "papermill": {
     "duration": 0.038788,
     "end_time": "2021-02-02T13:25:22.806336",
     "exception": false,
     "start_time": "2021-02-02T13:25:22.767548",
     "status": "completed"
    },
    "tags": []
   },
   "source": [
    "Taking a quick glance of the training dataset. So many columns to be converted into numerical ones and so many NaN values to be filled!"
   ]
  },
  {
   "cell_type": "code",
   "execution_count": 3,
   "metadata": {
    "execution": {
     "iopub.execute_input": "2021-02-02T13:25:22.927053Z",
     "iopub.status.busy": "2021-02-02T13:25:22.898422Z",
     "iopub.status.idle": "2021-02-02T13:25:22.949010Z",
     "shell.execute_reply": "2021-02-02T13:25:22.949818Z"
    },
    "papermill": {
     "duration": 0.104659,
     "end_time": "2021-02-02T13:25:22.950017",
     "exception": false,
     "start_time": "2021-02-02T13:25:22.845358",
     "status": "completed"
    },
    "tags": []
   },
   "outputs": [
    {
     "name": "stdout",
     "output_type": "stream",
     "text": [
      "TRAIN DATA\n",
      "<class 'pandas.core.frame.DataFrame'>\n",
      "RangeIndex: 891 entries, 0 to 890\n",
      "Data columns (total 12 columns):\n",
      " #   Column       Non-Null Count  Dtype  \n",
      "---  ------       --------------  -----  \n",
      " 0   PassengerId  891 non-null    int64  \n",
      " 1   Survived     891 non-null    int64  \n",
      " 2   Pclass       891 non-null    int64  \n",
      " 3   Name         891 non-null    object \n",
      " 4   Sex          891 non-null    object \n",
      " 5   Age          714 non-null    float64\n",
      " 6   SibSp        891 non-null    int64  \n",
      " 7   Parch        891 non-null    int64  \n",
      " 8   Ticket       891 non-null    object \n",
      " 9   Fare         891 non-null    float64\n",
      " 10  Cabin        204 non-null    object \n",
      " 11  Embarked     889 non-null    object \n",
      "dtypes: float64(2), int64(5), object(5)\n",
      "memory usage: 83.7+ KB\n",
      "---------------------------------------\n",
      "---------------------------------------\n",
      "TEST DATA\n",
      "<class 'pandas.core.frame.DataFrame'>\n",
      "RangeIndex: 418 entries, 0 to 417\n",
      "Data columns (total 11 columns):\n",
      " #   Column       Non-Null Count  Dtype  \n",
      "---  ------       --------------  -----  \n",
      " 0   PassengerId  418 non-null    int64  \n",
      " 1   Pclass       418 non-null    int64  \n",
      " 2   Name         418 non-null    object \n",
      " 3   Sex          418 non-null    object \n",
      " 4   Age          332 non-null    float64\n",
      " 5   SibSp        418 non-null    int64  \n",
      " 6   Parch        418 non-null    int64  \n",
      " 7   Ticket       418 non-null    object \n",
      " 8   Fare         417 non-null    float64\n",
      " 9   Cabin        91 non-null     object \n",
      " 10  Embarked     418 non-null    object \n",
      "dtypes: float64(2), int64(4), object(5)\n",
      "memory usage: 36.0+ KB\n"
     ]
    }
   ],
   "source": [
    "print(\"TRAIN DATA\"), comb[0].info(), print(\"-\"*39), print(\"-\"*39), print(\"TEST DATA\"), comb[1].info();"
   ]
  },
  {
   "cell_type": "code",
   "execution_count": 4,
   "metadata": {
    "execution": {
     "iopub.execute_input": "2021-02-02T13:25:23.065897Z",
     "iopub.status.busy": "2021-02-02T13:25:23.064827Z",
     "iopub.status.idle": "2021-02-02T13:25:23.096859Z",
     "shell.execute_reply": "2021-02-02T13:25:23.097639Z"
    },
    "papermill": {
     "duration": 0.10141,
     "end_time": "2021-02-02T13:25:23.097904",
     "exception": false,
     "start_time": "2021-02-02T13:25:22.996494",
     "status": "completed"
    },
    "tags": []
   },
   "outputs": [
    {
     "data": {
      "text/html": [
       "<div>\n",
       "<style scoped>\n",
       "    .dataframe tbody tr th:only-of-type {\n",
       "        vertical-align: middle;\n",
       "    }\n",
       "\n",
       "    .dataframe tbody tr th {\n",
       "        vertical-align: top;\n",
       "    }\n",
       "\n",
       "    .dataframe thead th {\n",
       "        text-align: right;\n",
       "    }\n",
       "</style>\n",
       "<table border=\"1\" class=\"dataframe\">\n",
       "  <thead>\n",
       "    <tr style=\"text-align: right;\">\n",
       "      <th></th>\n",
       "      <th>PassengerId</th>\n",
       "      <th>Survived</th>\n",
       "      <th>Pclass</th>\n",
       "      <th>Name</th>\n",
       "      <th>Sex</th>\n",
       "      <th>Age</th>\n",
       "      <th>SibSp</th>\n",
       "      <th>Parch</th>\n",
       "      <th>Ticket</th>\n",
       "      <th>Fare</th>\n",
       "      <th>Cabin</th>\n",
       "      <th>Embarked</th>\n",
       "    </tr>\n",
       "  </thead>\n",
       "  <tbody>\n",
       "    <tr>\n",
       "      <th>0</th>\n",
       "      <td>1</td>\n",
       "      <td>0</td>\n",
       "      <td>3</td>\n",
       "      <td>Braund, Mr. Owen Harris</td>\n",
       "      <td>male</td>\n",
       "      <td>22.0</td>\n",
       "      <td>1</td>\n",
       "      <td>0</td>\n",
       "      <td>A/5 21171</td>\n",
       "      <td>7.2500</td>\n",
       "      <td>NaN</td>\n",
       "      <td>S</td>\n",
       "    </tr>\n",
       "    <tr>\n",
       "      <th>1</th>\n",
       "      <td>2</td>\n",
       "      <td>1</td>\n",
       "      <td>1</td>\n",
       "      <td>Cumings, Mrs. John Bradley (Florence Briggs Th...</td>\n",
       "      <td>female</td>\n",
       "      <td>38.0</td>\n",
       "      <td>1</td>\n",
       "      <td>0</td>\n",
       "      <td>PC 17599</td>\n",
       "      <td>71.2833</td>\n",
       "      <td>C85</td>\n",
       "      <td>C</td>\n",
       "    </tr>\n",
       "    <tr>\n",
       "      <th>2</th>\n",
       "      <td>3</td>\n",
       "      <td>1</td>\n",
       "      <td>3</td>\n",
       "      <td>Heikkinen, Miss. Laina</td>\n",
       "      <td>female</td>\n",
       "      <td>26.0</td>\n",
       "      <td>0</td>\n",
       "      <td>0</td>\n",
       "      <td>STON/O2. 3101282</td>\n",
       "      <td>7.9250</td>\n",
       "      <td>NaN</td>\n",
       "      <td>S</td>\n",
       "    </tr>\n",
       "    <tr>\n",
       "      <th>3</th>\n",
       "      <td>4</td>\n",
       "      <td>1</td>\n",
       "      <td>1</td>\n",
       "      <td>Futrelle, Mrs. Jacques Heath (Lily May Peel)</td>\n",
       "      <td>female</td>\n",
       "      <td>35.0</td>\n",
       "      <td>1</td>\n",
       "      <td>0</td>\n",
       "      <td>113803</td>\n",
       "      <td>53.1000</td>\n",
       "      <td>C123</td>\n",
       "      <td>S</td>\n",
       "    </tr>\n",
       "    <tr>\n",
       "      <th>4</th>\n",
       "      <td>5</td>\n",
       "      <td>0</td>\n",
       "      <td>3</td>\n",
       "      <td>Allen, Mr. William Henry</td>\n",
       "      <td>male</td>\n",
       "      <td>35.0</td>\n",
       "      <td>0</td>\n",
       "      <td>0</td>\n",
       "      <td>373450</td>\n",
       "      <td>8.0500</td>\n",
       "      <td>NaN</td>\n",
       "      <td>S</td>\n",
       "    </tr>\n",
       "  </tbody>\n",
       "</table>\n",
       "</div>"
      ],
      "text/plain": [
       "   PassengerId  Survived  Pclass  \\\n",
       "0            1         0       3   \n",
       "1            2         1       1   \n",
       "2            3         1       3   \n",
       "3            4         1       1   \n",
       "4            5         0       3   \n",
       "\n",
       "                                                Name     Sex   Age  SibSp  \\\n",
       "0                            Braund, Mr. Owen Harris    male  22.0      1   \n",
       "1  Cumings, Mrs. John Bradley (Florence Briggs Th...  female  38.0      1   \n",
       "2                             Heikkinen, Miss. Laina  female  26.0      0   \n",
       "3       Futrelle, Mrs. Jacques Heath (Lily May Peel)  female  35.0      1   \n",
       "4                           Allen, Mr. William Henry    male  35.0      0   \n",
       "\n",
       "   Parch            Ticket     Fare Cabin Embarked  \n",
       "0      0         A/5 21171   7.2500   NaN        S  \n",
       "1      0          PC 17599  71.2833   C85        C  \n",
       "2      0  STON/O2. 3101282   7.9250   NaN        S  \n",
       "3      0            113803  53.1000  C123        S  \n",
       "4      0            373450   8.0500   NaN        S  "
      ]
     },
     "execution_count": 4,
     "metadata": {},
     "output_type": "execute_result"
    }
   ],
   "source": [
    "comb[0].head()"
   ]
  },
  {
   "cell_type": "code",
   "execution_count": 5,
   "metadata": {
    "execution": {
     "iopub.execute_input": "2021-02-02T13:25:23.200327Z",
     "iopub.status.busy": "2021-02-02T13:25:23.187762Z",
     "iopub.status.idle": "2021-02-02T13:25:23.205151Z",
     "shell.execute_reply": "2021-02-02T13:25:23.204541Z"
    },
    "papermill": {
     "duration": 0.065132,
     "end_time": "2021-02-02T13:25:23.205311",
     "exception": false,
     "start_time": "2021-02-02T13:25:23.140179",
     "status": "completed"
    },
    "tags": []
   },
   "outputs": [
    {
     "data": {
      "text/html": [
       "<div>\n",
       "<style scoped>\n",
       "    .dataframe tbody tr th:only-of-type {\n",
       "        vertical-align: middle;\n",
       "    }\n",
       "\n",
       "    .dataframe tbody tr th {\n",
       "        vertical-align: top;\n",
       "    }\n",
       "\n",
       "    .dataframe thead th {\n",
       "        text-align: right;\n",
       "    }\n",
       "</style>\n",
       "<table border=\"1\" class=\"dataframe\">\n",
       "  <thead>\n",
       "    <tr style=\"text-align: right;\">\n",
       "      <th></th>\n",
       "      <th>PassengerId</th>\n",
       "      <th>Pclass</th>\n",
       "      <th>Name</th>\n",
       "      <th>Sex</th>\n",
       "      <th>Age</th>\n",
       "      <th>SibSp</th>\n",
       "      <th>Parch</th>\n",
       "      <th>Ticket</th>\n",
       "      <th>Fare</th>\n",
       "      <th>Cabin</th>\n",
       "      <th>Embarked</th>\n",
       "    </tr>\n",
       "  </thead>\n",
       "  <tbody>\n",
       "    <tr>\n",
       "      <th>0</th>\n",
       "      <td>892</td>\n",
       "      <td>3</td>\n",
       "      <td>Kelly, Mr. James</td>\n",
       "      <td>male</td>\n",
       "      <td>34.5</td>\n",
       "      <td>0</td>\n",
       "      <td>0</td>\n",
       "      <td>330911</td>\n",
       "      <td>7.8292</td>\n",
       "      <td>NaN</td>\n",
       "      <td>Q</td>\n",
       "    </tr>\n",
       "    <tr>\n",
       "      <th>1</th>\n",
       "      <td>893</td>\n",
       "      <td>3</td>\n",
       "      <td>Wilkes, Mrs. James (Ellen Needs)</td>\n",
       "      <td>female</td>\n",
       "      <td>47.0</td>\n",
       "      <td>1</td>\n",
       "      <td>0</td>\n",
       "      <td>363272</td>\n",
       "      <td>7.0000</td>\n",
       "      <td>NaN</td>\n",
       "      <td>S</td>\n",
       "    </tr>\n",
       "    <tr>\n",
       "      <th>2</th>\n",
       "      <td>894</td>\n",
       "      <td>2</td>\n",
       "      <td>Myles, Mr. Thomas Francis</td>\n",
       "      <td>male</td>\n",
       "      <td>62.0</td>\n",
       "      <td>0</td>\n",
       "      <td>0</td>\n",
       "      <td>240276</td>\n",
       "      <td>9.6875</td>\n",
       "      <td>NaN</td>\n",
       "      <td>Q</td>\n",
       "    </tr>\n",
       "    <tr>\n",
       "      <th>3</th>\n",
       "      <td>895</td>\n",
       "      <td>3</td>\n",
       "      <td>Wirz, Mr. Albert</td>\n",
       "      <td>male</td>\n",
       "      <td>27.0</td>\n",
       "      <td>0</td>\n",
       "      <td>0</td>\n",
       "      <td>315154</td>\n",
       "      <td>8.6625</td>\n",
       "      <td>NaN</td>\n",
       "      <td>S</td>\n",
       "    </tr>\n",
       "    <tr>\n",
       "      <th>4</th>\n",
       "      <td>896</td>\n",
       "      <td>3</td>\n",
       "      <td>Hirvonen, Mrs. Alexander (Helga E Lindqvist)</td>\n",
       "      <td>female</td>\n",
       "      <td>22.0</td>\n",
       "      <td>1</td>\n",
       "      <td>1</td>\n",
       "      <td>3101298</td>\n",
       "      <td>12.2875</td>\n",
       "      <td>NaN</td>\n",
       "      <td>S</td>\n",
       "    </tr>\n",
       "  </tbody>\n",
       "</table>\n",
       "</div>"
      ],
      "text/plain": [
       "   PassengerId  Pclass                                          Name     Sex  \\\n",
       "0          892       3                              Kelly, Mr. James    male   \n",
       "1          893       3              Wilkes, Mrs. James (Ellen Needs)  female   \n",
       "2          894       2                     Myles, Mr. Thomas Francis    male   \n",
       "3          895       3                              Wirz, Mr. Albert    male   \n",
       "4          896       3  Hirvonen, Mrs. Alexander (Helga E Lindqvist)  female   \n",
       "\n",
       "    Age  SibSp  Parch   Ticket     Fare Cabin Embarked  \n",
       "0  34.5      0      0   330911   7.8292   NaN        Q  \n",
       "1  47.0      1      0   363272   7.0000   NaN        S  \n",
       "2  62.0      0      0   240276   9.6875   NaN        Q  \n",
       "3  27.0      0      0   315154   8.6625   NaN        S  \n",
       "4  22.0      1      1  3101298  12.2875   NaN        S  "
      ]
     },
     "execution_count": 5,
     "metadata": {},
     "output_type": "execute_result"
    }
   ],
   "source": [
    "comb[1].head()"
   ]
  },
  {
   "cell_type": "markdown",
   "metadata": {
    "papermill": {
     "duration": 0.041929,
     "end_time": "2021-02-02T13:25:23.289128",
     "exception": false,
     "start_time": "2021-02-02T13:25:23.247199",
     "status": "completed"
    },
    "tags": []
   },
   "source": [
    "# Part 1. Managing Data\n",
    "## Filling empty values\n",
    "#### The first thing we must do is to find a right way to fill empty values. As we can see, there are many NaN values in Embarked (in the training set only), in Cabin and in Age columns (in both training set and test set)."
   ]
  },
  {
   "cell_type": "markdown",
   "metadata": {
    "papermill": {
     "duration": 0.040761,
     "end_time": "2021-02-02T13:25:23.371772",
     "exception": false,
     "start_time": "2021-02-02T13:25:23.331011",
     "status": "completed"
    },
    "tags": []
   },
   "source": [
    "Filling empty values in Age with the list that consists of random values in range of the mean age +- standart deviation:"
   ]
  },
  {
   "cell_type": "code",
   "execution_count": 6,
   "metadata": {
    "execution": {
     "iopub.execute_input": "2021-02-02T13:25:23.475017Z",
     "iopub.status.busy": "2021-02-02T13:25:23.467069Z",
     "iopub.status.idle": "2021-02-02T13:25:23.478308Z",
     "shell.execute_reply": "2021-02-02T13:25:23.477637Z"
    },
    "papermill": {
     "duration": 0.065835,
     "end_time": "2021-02-02T13:25:23.478478",
     "exception": false,
     "start_time": "2021-02-02T13:25:23.412643",
     "status": "completed"
    },
    "tags": []
   },
   "outputs": [],
   "source": [
    "for ds in comb:\n",
    "    age_avg = ds['Age'].mean()\n",
    "    age_std = ds['Age'].std()\n",
    "    age_nan = ds['Age'].isnull().sum()\n",
    "    age_rand_list = np.random.randint(age_avg - age_std, age_avg + age_std, size=age_nan)\n",
    "    ds['Age'][np.isnan(ds['Age'])] = age_rand_list\n",
    "    ds['Age'] = ds['Age'].astype(int)"
   ]
  },
  {
   "cell_type": "markdown",
   "metadata": {
    "papermill": {
     "duration": 0.041046,
     "end_time": "2021-02-02T13:25:23.561179",
     "exception": false,
     "start_time": "2021-02-02T13:25:23.520133",
     "status": "completed"
    },
    "tags": []
   },
   "source": [
    "Filling empty values in Embarked with the mode value:"
   ]
  },
  {
   "cell_type": "code",
   "execution_count": 7,
   "metadata": {
    "execution": {
     "iopub.execute_input": "2021-02-02T13:25:23.655223Z",
     "iopub.status.busy": "2021-02-02T13:25:23.654156Z",
     "iopub.status.idle": "2021-02-02T13:25:23.658067Z",
     "shell.execute_reply": "2021-02-02T13:25:23.657439Z"
    },
    "papermill": {
     "duration": 0.055048,
     "end_time": "2021-02-02T13:25:23.658224",
     "exception": false,
     "start_time": "2021-02-02T13:25:23.603176",
     "status": "completed"
    },
    "tags": []
   },
   "outputs": [],
   "source": [
    "emb_mode = comb[0]['Embarked'].mode().at[0]\n",
    "comb[0]['Embarked'] = comb[0]['Embarked'].fillna(emb_mode)"
   ]
  },
  {
   "cell_type": "markdown",
   "metadata": {
    "papermill": {
     "duration": 0.04114,
     "end_time": "2021-02-02T13:25:23.742014",
     "exception": false,
     "start_time": "2021-02-02T13:25:23.700874",
     "status": "completed"
    },
    "tags": []
   },
   "source": [
    "And filling empty data in Fare with the mode:"
   ]
  },
  {
   "cell_type": "code",
   "execution_count": 8,
   "metadata": {
    "execution": {
     "iopub.execute_input": "2021-02-02T13:25:23.833911Z",
     "iopub.status.busy": "2021-02-02T13:25:23.832894Z",
     "iopub.status.idle": "2021-02-02T13:25:23.836576Z",
     "shell.execute_reply": "2021-02-02T13:25:23.836043Z"
    },
    "papermill": {
     "duration": 0.052917,
     "end_time": "2021-02-02T13:25:23.836737",
     "exception": false,
     "start_time": "2021-02-02T13:25:23.783820",
     "status": "completed"
    },
    "tags": []
   },
   "outputs": [],
   "source": [
    "fare = float(comb[1]['Fare'].mode())\n",
    "comb[1]['Fare'] = comb[1]['Fare'].fillna(fare)"
   ]
  },
  {
   "cell_type": "markdown",
   "metadata": {
    "papermill": {
     "duration": 0.041469,
     "end_time": "2021-02-02T13:25:23.920351",
     "exception": false,
     "start_time": "2021-02-02T13:25:23.878882",
     "status": "completed"
    },
    "tags": []
   },
   "source": [
    "## EDA. Data Transforming\n",
    "#### We have many columns that are candidates to be split so as to gain a bigger success.\n"
   ]
  },
  {
   "cell_type": "markdown",
   "metadata": {
    "papermill": {
     "duration": 0.041389,
     "end_time": "2021-02-02T13:25:24.004212",
     "exception": false,
     "start_time": "2021-02-02T13:25:23.962823",
     "status": "completed"
    },
    "tags": []
   },
   "source": [
    "My guess is that the Cabin column will be really informative for our predictions"
   ]
  },
  {
   "cell_type": "code",
   "execution_count": 9,
   "metadata": {
    "execution": {
     "iopub.execute_input": "2021-02-02T13:25:24.110155Z",
     "iopub.status.busy": "2021-02-02T13:25:24.109174Z",
     "iopub.status.idle": "2021-02-02T13:25:24.155089Z",
     "shell.execute_reply": "2021-02-02T13:25:24.154568Z"
    },
    "papermill": {
     "duration": 0.107895,
     "end_time": "2021-02-02T13:25:24.155235",
     "exception": false,
     "start_time": "2021-02-02T13:25:24.047340",
     "status": "completed"
    },
    "tags": []
   },
   "outputs": [
    {
     "data": {
      "text/html": [
       "<div>\n",
       "<style scoped>\n",
       "    .dataframe tbody tr th:only-of-type {\n",
       "        vertical-align: middle;\n",
       "    }\n",
       "\n",
       "    .dataframe tbody tr th {\n",
       "        vertical-align: top;\n",
       "    }\n",
       "\n",
       "    .dataframe thead th {\n",
       "        text-align: right;\n",
       "    }\n",
       "</style>\n",
       "<table border=\"1\" class=\"dataframe\">\n",
       "  <thead>\n",
       "    <tr style=\"text-align: right;\">\n",
       "      <th>Survived</th>\n",
       "      <th>0</th>\n",
       "      <th>1</th>\n",
       "    </tr>\n",
       "    <tr>\n",
       "      <th>Cabin_Null</th>\n",
       "      <th></th>\n",
       "      <th></th>\n",
       "    </tr>\n",
       "  </thead>\n",
       "  <tbody>\n",
       "    <tr>\n",
       "      <th>0</th>\n",
       "      <td>68</td>\n",
       "      <td>136</td>\n",
       "    </tr>\n",
       "    <tr>\n",
       "      <th>1</th>\n",
       "      <td>481</td>\n",
       "      <td>206</td>\n",
       "    </tr>\n",
       "  </tbody>\n",
       "</table>\n",
       "</div>"
      ],
      "text/plain": [
       "Survived      0    1\n",
       "Cabin_Null          \n",
       "0            68  136\n",
       "1           481  206"
      ]
     },
     "execution_count": 9,
     "metadata": {},
     "output_type": "execute_result"
    }
   ],
   "source": [
    "for ds in comb:\n",
    "    ds['Cabin_Null'] = ds['Cabin'].isnull().astype(int)\n",
    "\n",
    "pd.crosstab(comb[0]['Cabin_Null'], comb[0]['Survived'])"
   ]
  },
  {
   "cell_type": "markdown",
   "metadata": {
    "papermill": {
     "duration": 0.041657,
     "end_time": "2021-02-02T13:25:24.238823",
     "exception": false,
     "start_time": "2021-02-02T13:25:24.197166",
     "status": "completed"
    },
    "tags": []
   },
   "source": [
    "As we can see, there's an unexpectable correlation between presence of the cabin information and the fact of survival. When the cabin number is known, the survival probability is significantly higher."
   ]
  },
  {
   "cell_type": "code",
   "execution_count": 10,
   "metadata": {
    "execution": {
     "iopub.execute_input": "2021-02-02T13:25:24.331632Z",
     "iopub.status.busy": "2021-02-02T13:25:24.329039Z",
     "iopub.status.idle": "2021-02-02T13:25:24.343697Z",
     "shell.execute_reply": "2021-02-02T13:25:24.343021Z"
    },
    "papermill": {
     "duration": 0.063146,
     "end_time": "2021-02-02T13:25:24.343851",
     "exception": false,
     "start_time": "2021-02-02T13:25:24.280705",
     "status": "completed"
    },
    "tags": []
   },
   "outputs": [
    {
     "data": {
      "text/html": [
       "<div>\n",
       "<style scoped>\n",
       "    .dataframe tbody tr th:only-of-type {\n",
       "        vertical-align: middle;\n",
       "    }\n",
       "\n",
       "    .dataframe tbody tr th {\n",
       "        vertical-align: top;\n",
       "    }\n",
       "\n",
       "    .dataframe thead th {\n",
       "        text-align: right;\n",
       "    }\n",
       "</style>\n",
       "<table border=\"1\" class=\"dataframe\">\n",
       "  <thead>\n",
       "    <tr style=\"text-align: right;\">\n",
       "      <th></th>\n",
       "      <th>Cabin_Null</th>\n",
       "      <th>Survived</th>\n",
       "    </tr>\n",
       "  </thead>\n",
       "  <tbody>\n",
       "    <tr>\n",
       "      <th>0</th>\n",
       "      <td>0</td>\n",
       "      <td>0.666667</td>\n",
       "    </tr>\n",
       "    <tr>\n",
       "      <th>1</th>\n",
       "      <td>1</td>\n",
       "      <td>0.299854</td>\n",
       "    </tr>\n",
       "  </tbody>\n",
       "</table>\n",
       "</div>"
      ],
      "text/plain": [
       "   Cabin_Null  Survived\n",
       "0           0  0.666667\n",
       "1           1  0.299854"
      ]
     },
     "execution_count": 10,
     "metadata": {},
     "output_type": "execute_result"
    }
   ],
   "source": [
    "comb[0][['Cabin_Null', 'Survived']].groupby(['Cabin_Null'], as_index=False).mean().sort_values(by='Survived', ascending=False)"
   ]
  },
  {
   "cell_type": "markdown",
   "metadata": {
    "papermill": {
     "duration": 0.042406,
     "end_time": "2021-02-02T13:25:24.428859",
     "exception": false,
     "start_time": "2021-02-02T13:25:24.386453",
     "status": "completed"
    },
    "tags": []
   },
   "source": [
    "Let's now get the type of ticket by extracting letters into a separate column."
   ]
  },
  {
   "cell_type": "code",
   "execution_count": 11,
   "metadata": {
    "execution": {
     "iopub.execute_input": "2021-02-02T13:25:24.531063Z",
     "iopub.status.busy": "2021-02-02T13:25:24.521392Z",
     "iopub.status.idle": "2021-02-02T13:25:24.536499Z",
     "shell.execute_reply": "2021-02-02T13:25:24.535791Z"
    },
    "papermill": {
     "duration": 0.064973,
     "end_time": "2021-02-02T13:25:24.536662",
     "exception": false,
     "start_time": "2021-02-02T13:25:24.471689",
     "status": "completed"
    },
    "tags": []
   },
   "outputs": [
    {
     "data": {
      "text/plain": [
       "array(['A/5', 'PC', 'STON/O2.', 'Other', 'PP', 'A/5.', 'C.A.', 'A./5.',\n",
       "       'SC/Paris', 'S.C./A.4.', 'A/4.', 'CA', 'S.P.', 'S.O.C.', 'SO/C',\n",
       "       'W./C.', 'SOTON/OQ', 'W.E.P.', 'STON/O', 'A4.', 'C', 'SOTON/O.Q.',\n",
       "       'SC/PARIS', 'S.O.P.', 'A.5.', 'Fa', 'CA.', 'F.C.C.', 'W/C',\n",
       "       'SW/PP', 'SCO/W', 'P/PP', 'SC', 'SC/AH', 'A/S', 'A/4', 'WE/P',\n",
       "       'S.W./PP', 'S.O./P.P.', 'F.C.', 'SOTON/O2', 'S.C./PARIS',\n",
       "       'C.A./SOTON'], dtype=object)"
      ]
     },
     "execution_count": 11,
     "metadata": {},
     "output_type": "execute_result"
    }
   ],
   "source": [
    "for daset in comb:\n",
    "    daset['TickType'] = 0\n",
    "    tic_let = daset['Ticket'].str.extract(r'(^\\S+) ')\n",
    "    daset['TickType'] = tic_let\n",
    "    daset['TickType'] = daset['TickType'].fillna('Other')\n",
    "\n",
    "comb[0]['TickType'].unique()"
   ]
  },
  {
   "cell_type": "markdown",
   "metadata": {
    "papermill": {
     "duration": 0.042888,
     "end_time": "2021-02-02T13:25:24.622589",
     "exception": false,
     "start_time": "2021-02-02T13:25:24.579701",
     "status": "completed"
    },
    "tags": []
   },
   "source": [
    "I suppose that there may be a correlation between tickets that start with the same letter. However, there are too many different values, so we will group ticket types depending on their first letter."
   ]
  },
  {
   "cell_type": "code",
   "execution_count": 12,
   "metadata": {
    "execution": {
     "iopub.execute_input": "2021-02-02T13:25:24.747440Z",
     "iopub.status.busy": "2021-02-02T13:25:24.746391Z",
     "iopub.status.idle": "2021-02-02T13:25:24.797793Z",
     "shell.execute_reply": "2021-02-02T13:25:24.797215Z"
    },
    "papermill": {
     "duration": 0.13196,
     "end_time": "2021-02-02T13:25:24.797949",
     "exception": false,
     "start_time": "2021-02-02T13:25:24.665989",
     "status": "completed"
    },
    "tags": []
   },
   "outputs": [
    {
     "data": {
      "text/html": [
       "<div>\n",
       "<style scoped>\n",
       "    .dataframe tbody tr th:only-of-type {\n",
       "        vertical-align: middle;\n",
       "    }\n",
       "\n",
       "    .dataframe tbody tr th {\n",
       "        vertical-align: top;\n",
       "    }\n",
       "\n",
       "    .dataframe thead th {\n",
       "        text-align: right;\n",
       "    }\n",
       "</style>\n",
       "<table border=\"1\" class=\"dataframe\">\n",
       "  <thead>\n",
       "    <tr style=\"text-align: right;\">\n",
       "      <th>Survived</th>\n",
       "      <th>0</th>\n",
       "      <th>1</th>\n",
       "    </tr>\n",
       "    <tr>\n",
       "      <th>TickType</th>\n",
       "      <th></th>\n",
       "      <th></th>\n",
       "    </tr>\n",
       "  </thead>\n",
       "  <tbody>\n",
       "    <tr>\n",
       "      <th>A</th>\n",
       "      <td>27</td>\n",
       "      <td>2</td>\n",
       "    </tr>\n",
       "    <tr>\n",
       "      <th>C</th>\n",
       "      <td>31</td>\n",
       "      <td>16</td>\n",
       "    </tr>\n",
       "    <tr>\n",
       "      <th>F</th>\n",
       "      <td>3</td>\n",
       "      <td>4</td>\n",
       "    </tr>\n",
       "    <tr>\n",
       "      <th>Other</th>\n",
       "      <td>410</td>\n",
       "      <td>255</td>\n",
       "    </tr>\n",
       "    <tr>\n",
       "      <th>P</th>\n",
       "      <td>23</td>\n",
       "      <td>42</td>\n",
       "    </tr>\n",
       "    <tr>\n",
       "      <th>S</th>\n",
       "      <td>44</td>\n",
       "      <td>21</td>\n",
       "    </tr>\n",
       "    <tr>\n",
       "      <th>W</th>\n",
       "      <td>11</td>\n",
       "      <td>2</td>\n",
       "    </tr>\n",
       "  </tbody>\n",
       "</table>\n",
       "</div>"
      ],
      "text/plain": [
       "Survived    0    1\n",
       "TickType          \n",
       "A          27    2\n",
       "C          31   16\n",
       "F           3    4\n",
       "Other     410  255\n",
       "P          23   42\n",
       "S          44   21\n",
       "W          11    2"
      ]
     },
     "execution_count": 12,
     "metadata": {},
     "output_type": "execute_result"
    }
   ],
   "source": [
    "for dataset in comb:\n",
    "    for letter in \"ACFPSW\":\n",
    "        let_regex = r\"^(\" + letter + \".*)\"\n",
    "        l_tic = dataset.TickType.str.extract(let_regex).dropna(axis=0).reset_index(drop=True)\n",
    "        tic_l_list = list(l_tic[0].unique())\n",
    "        dataset['TickType'].replace(tic_l_list, letter, inplace=True)\n",
    "\n",
    "pd.crosstab(comb[0].TickType, comb[0].Survived)"
   ]
  },
  {
   "cell_type": "markdown",
   "metadata": {
    "papermill": {
     "duration": 0.043207,
     "end_time": "2021-02-02T13:25:24.884850",
     "exception": false,
     "start_time": "2021-02-02T13:25:24.841643",
     "status": "completed"
    },
    "tags": []
   },
   "source": [
    "Much better! However, we still see that F type is not quite representative. Let's merge it with Other."
   ]
  },
  {
   "cell_type": "code",
   "execution_count": 13,
   "metadata": {
    "execution": {
     "iopub.execute_input": "2021-02-02T13:25:24.980729Z",
     "iopub.status.busy": "2021-02-02T13:25:24.979734Z",
     "iopub.status.idle": "2021-02-02T13:25:24.998557Z",
     "shell.execute_reply": "2021-02-02T13:25:24.997955Z"
    },
    "papermill": {
     "duration": 0.069905,
     "end_time": "2021-02-02T13:25:24.998718",
     "exception": false,
     "start_time": "2021-02-02T13:25:24.928813",
     "status": "completed"
    },
    "tags": []
   },
   "outputs": [
    {
     "data": {
      "text/html": [
       "<div>\n",
       "<style scoped>\n",
       "    .dataframe tbody tr th:only-of-type {\n",
       "        vertical-align: middle;\n",
       "    }\n",
       "\n",
       "    .dataframe tbody tr th {\n",
       "        vertical-align: top;\n",
       "    }\n",
       "\n",
       "    .dataframe thead th {\n",
       "        text-align: right;\n",
       "    }\n",
       "</style>\n",
       "<table border=\"1\" class=\"dataframe\">\n",
       "  <thead>\n",
       "    <tr style=\"text-align: right;\">\n",
       "      <th></th>\n",
       "      <th>TickType</th>\n",
       "      <th>Survived</th>\n",
       "    </tr>\n",
       "  </thead>\n",
       "  <tbody>\n",
       "    <tr>\n",
       "      <th>3</th>\n",
       "      <td>P</td>\n",
       "      <td>0.646154</td>\n",
       "    </tr>\n",
       "    <tr>\n",
       "      <th>2</th>\n",
       "      <td>Other</td>\n",
       "      <td>0.385417</td>\n",
       "    </tr>\n",
       "    <tr>\n",
       "      <th>1</th>\n",
       "      <td>C</td>\n",
       "      <td>0.340426</td>\n",
       "    </tr>\n",
       "    <tr>\n",
       "      <th>4</th>\n",
       "      <td>S</td>\n",
       "      <td>0.323077</td>\n",
       "    </tr>\n",
       "    <tr>\n",
       "      <th>5</th>\n",
       "      <td>W</td>\n",
       "      <td>0.153846</td>\n",
       "    </tr>\n",
       "    <tr>\n",
       "      <th>0</th>\n",
       "      <td>A</td>\n",
       "      <td>0.068966</td>\n",
       "    </tr>\n",
       "  </tbody>\n",
       "</table>\n",
       "</div>"
      ],
      "text/plain": [
       "  TickType  Survived\n",
       "3        P  0.646154\n",
       "2    Other  0.385417\n",
       "1        C  0.340426\n",
       "4        S  0.323077\n",
       "5        W  0.153846\n",
       "0        A  0.068966"
      ]
     },
     "execution_count": 13,
     "metadata": {},
     "output_type": "execute_result"
    }
   ],
   "source": [
    "for ds in comb:\n",
    "    ds['TickType'] = ds['TickType'].replace('F', 'Other')\n",
    "\n",
    "comb[0][['TickType', 'Survived']].groupby(['TickType'], as_index=False).mean().sort_values(by='Survived', ascending=False)"
   ]
  },
  {
   "cell_type": "markdown",
   "metadata": {
    "papermill": {
     "duration": 0.044689,
     "end_time": "2021-02-02T13:25:25.088545",
     "exception": false,
     "start_time": "2021-02-02T13:25:25.043856",
     "status": "completed"
    },
    "tags": []
   },
   "source": [
    "Let's unite SibSp and Parch columns to see how many relatives of each passenger were aboard."
   ]
  },
  {
   "cell_type": "code",
   "execution_count": 14,
   "metadata": {
    "execution": {
     "iopub.execute_input": "2021-02-02T13:25:25.183694Z",
     "iopub.status.busy": "2021-02-02T13:25:25.182979Z",
     "iopub.status.idle": "2021-02-02T13:25:25.202179Z",
     "shell.execute_reply": "2021-02-02T13:25:25.202705Z"
    },
    "papermill": {
     "duration": 0.069479,
     "end_time": "2021-02-02T13:25:25.202906",
     "exception": false,
     "start_time": "2021-02-02T13:25:25.133427",
     "status": "completed"
    },
    "tags": []
   },
   "outputs": [
    {
     "data": {
      "text/html": [
       "<div>\n",
       "<style scoped>\n",
       "    .dataframe tbody tr th:only-of-type {\n",
       "        vertical-align: middle;\n",
       "    }\n",
       "\n",
       "    .dataframe tbody tr th {\n",
       "        vertical-align: top;\n",
       "    }\n",
       "\n",
       "    .dataframe thead th {\n",
       "        text-align: right;\n",
       "    }\n",
       "</style>\n",
       "<table border=\"1\" class=\"dataframe\">\n",
       "  <thead>\n",
       "    <tr style=\"text-align: right;\">\n",
       "      <th></th>\n",
       "      <th>RelatAboard</th>\n",
       "      <th>Survived</th>\n",
       "    </tr>\n",
       "  </thead>\n",
       "  <tbody>\n",
       "    <tr>\n",
       "      <th>3</th>\n",
       "      <td>3</td>\n",
       "      <td>0.724138</td>\n",
       "    </tr>\n",
       "    <tr>\n",
       "      <th>2</th>\n",
       "      <td>2</td>\n",
       "      <td>0.578431</td>\n",
       "    </tr>\n",
       "    <tr>\n",
       "      <th>1</th>\n",
       "      <td>1</td>\n",
       "      <td>0.552795</td>\n",
       "    </tr>\n",
       "    <tr>\n",
       "      <th>6</th>\n",
       "      <td>6</td>\n",
       "      <td>0.333333</td>\n",
       "    </tr>\n",
       "    <tr>\n",
       "      <th>0</th>\n",
       "      <td>0</td>\n",
       "      <td>0.303538</td>\n",
       "    </tr>\n",
       "    <tr>\n",
       "      <th>4</th>\n",
       "      <td>4</td>\n",
       "      <td>0.200000</td>\n",
       "    </tr>\n",
       "    <tr>\n",
       "      <th>5</th>\n",
       "      <td>5</td>\n",
       "      <td>0.136364</td>\n",
       "    </tr>\n",
       "    <tr>\n",
       "      <th>7</th>\n",
       "      <td>7</td>\n",
       "      <td>0.000000</td>\n",
       "    </tr>\n",
       "    <tr>\n",
       "      <th>8</th>\n",
       "      <td>10</td>\n",
       "      <td>0.000000</td>\n",
       "    </tr>\n",
       "  </tbody>\n",
       "</table>\n",
       "</div>"
      ],
      "text/plain": [
       "   RelatAboard  Survived\n",
       "3            3  0.724138\n",
       "2            2  0.578431\n",
       "1            1  0.552795\n",
       "6            6  0.333333\n",
       "0            0  0.303538\n",
       "4            4  0.200000\n",
       "5            5  0.136364\n",
       "7            7  0.000000\n",
       "8           10  0.000000"
      ]
     },
     "execution_count": 14,
     "metadata": {},
     "output_type": "execute_result"
    }
   ],
   "source": [
    "for ds in comb:\n",
    "    ds['RelatAboard'] = ds['SibSp'] + ds['Parch']\n",
    "\n",
    "comb[0][['RelatAboard', 'Survived']].groupby(['RelatAboard'], as_index=False).mean().sort_values(by='Survived', ascending=False)"
   ]
  },
  {
   "cell_type": "code",
   "execution_count": 15,
   "metadata": {
    "execution": {
     "iopub.execute_input": "2021-02-02T13:25:25.296792Z",
     "iopub.status.busy": "2021-02-02T13:25:25.295999Z",
     "iopub.status.idle": "2021-02-02T13:25:25.322329Z",
     "shell.execute_reply": "2021-02-02T13:25:25.322890Z"
    },
    "papermill": {
     "duration": 0.074959,
     "end_time": "2021-02-02T13:25:25.323080",
     "exception": false,
     "start_time": "2021-02-02T13:25:25.248121",
     "status": "completed"
    },
    "tags": []
   },
   "outputs": [
    {
     "data": {
      "text/html": [
       "<div>\n",
       "<style scoped>\n",
       "    .dataframe tbody tr th:only-of-type {\n",
       "        vertical-align: middle;\n",
       "    }\n",
       "\n",
       "    .dataframe tbody tr th {\n",
       "        vertical-align: top;\n",
       "    }\n",
       "\n",
       "    .dataframe thead th {\n",
       "        text-align: right;\n",
       "    }\n",
       "</style>\n",
       "<table border=\"1\" class=\"dataframe\">\n",
       "  <thead>\n",
       "    <tr style=\"text-align: right;\">\n",
       "      <th>Survived</th>\n",
       "      <th>0</th>\n",
       "      <th>1</th>\n",
       "    </tr>\n",
       "    <tr>\n",
       "      <th>RelatAboard</th>\n",
       "      <th></th>\n",
       "      <th></th>\n",
       "    </tr>\n",
       "  </thead>\n",
       "  <tbody>\n",
       "    <tr>\n",
       "      <th>0</th>\n",
       "      <td>374</td>\n",
       "      <td>163</td>\n",
       "    </tr>\n",
       "    <tr>\n",
       "      <th>1</th>\n",
       "      <td>72</td>\n",
       "      <td>89</td>\n",
       "    </tr>\n",
       "    <tr>\n",
       "      <th>2</th>\n",
       "      <td>43</td>\n",
       "      <td>59</td>\n",
       "    </tr>\n",
       "    <tr>\n",
       "      <th>3</th>\n",
       "      <td>8</td>\n",
       "      <td>21</td>\n",
       "    </tr>\n",
       "    <tr>\n",
       "      <th>4</th>\n",
       "      <td>12</td>\n",
       "      <td>3</td>\n",
       "    </tr>\n",
       "    <tr>\n",
       "      <th>5</th>\n",
       "      <td>19</td>\n",
       "      <td>3</td>\n",
       "    </tr>\n",
       "    <tr>\n",
       "      <th>6</th>\n",
       "      <td>8</td>\n",
       "      <td>4</td>\n",
       "    </tr>\n",
       "    <tr>\n",
       "      <th>7</th>\n",
       "      <td>6</td>\n",
       "      <td>0</td>\n",
       "    </tr>\n",
       "    <tr>\n",
       "      <th>10</th>\n",
       "      <td>7</td>\n",
       "      <td>0</td>\n",
       "    </tr>\n",
       "  </tbody>\n",
       "</table>\n",
       "</div>"
      ],
      "text/plain": [
       "Survived       0    1\n",
       "RelatAboard          \n",
       "0            374  163\n",
       "1             72   89\n",
       "2             43   59\n",
       "3              8   21\n",
       "4             12    3\n",
       "5             19    3\n",
       "6              8    4\n",
       "7              6    0\n",
       "10             7    0"
      ]
     },
     "execution_count": 15,
     "metadata": {},
     "output_type": "execute_result"
    }
   ],
   "source": [
    "pd.crosstab(comb[0]['RelatAboard'], comb[0]['Survived'])"
   ]
  },
  {
   "cell_type": "markdown",
   "metadata": {
    "papermill": {
     "duration": 0.044909,
     "end_time": "2021-02-02T13:25:25.413500",
     "exception": false,
     "start_time": "2021-02-02T13:25:25.368591",
     "status": "completed"
    },
    "tags": []
   },
   "source": [
    "The RelatAboard column must be split into groups. "
   ]
  },
  {
   "cell_type": "code",
   "execution_count": 16,
   "metadata": {
    "execution": {
     "iopub.execute_input": "2021-02-02T13:25:25.508062Z",
     "iopub.status.busy": "2021-02-02T13:25:25.507245Z",
     "iopub.status.idle": "2021-02-02T13:25:25.534065Z",
     "shell.execute_reply": "2021-02-02T13:25:25.534609Z"
    },
    "papermill": {
     "duration": 0.075921,
     "end_time": "2021-02-02T13:25:25.534806",
     "exception": false,
     "start_time": "2021-02-02T13:25:25.458885",
     "status": "completed"
    },
    "tags": []
   },
   "outputs": [
    {
     "data": {
      "text/html": [
       "<div>\n",
       "<style scoped>\n",
       "    .dataframe tbody tr th:only-of-type {\n",
       "        vertical-align: middle;\n",
       "    }\n",
       "\n",
       "    .dataframe tbody tr th {\n",
       "        vertical-align: top;\n",
       "    }\n",
       "\n",
       "    .dataframe thead th {\n",
       "        text-align: right;\n",
       "    }\n",
       "</style>\n",
       "<table border=\"1\" class=\"dataframe\">\n",
       "  <thead>\n",
       "    <tr style=\"text-align: right;\">\n",
       "      <th></th>\n",
       "      <th>OTTmembers</th>\n",
       "      <th>Survived</th>\n",
       "    </tr>\n",
       "  </thead>\n",
       "  <tbody>\n",
       "    <tr>\n",
       "      <th>3</th>\n",
       "      <td>3</td>\n",
       "      <td>0.724138</td>\n",
       "    </tr>\n",
       "    <tr>\n",
       "      <th>1</th>\n",
       "      <td>1</td>\n",
       "      <td>0.562738</td>\n",
       "    </tr>\n",
       "    <tr>\n",
       "      <th>0</th>\n",
       "      <td>0</td>\n",
       "      <td>0.303538</td>\n",
       "    </tr>\n",
       "    <tr>\n",
       "      <th>2</th>\n",
       "      <td>2</td>\n",
       "      <td>0.161290</td>\n",
       "    </tr>\n",
       "  </tbody>\n",
       "</table>\n",
       "</div>"
      ],
      "text/plain": [
       "   OTTmembers  Survived\n",
       "3           3  0.724138\n",
       "1           1  0.562738\n",
       "0           0  0.303538\n",
       "2           2  0.161290"
      ]
     },
     "execution_count": 16,
     "metadata": {},
     "output_type": "execute_result"
    }
   ],
   "source": [
    "for ds in comb:\n",
    "    ds['OTTmembers'] = 2\n",
    "    ds.loc[ds['RelatAboard'] == 0, 'OTTmembers'] = 0\n",
    "    ds.loc[(ds['RelatAboard'] == 1) | (ds['RelatAboard'] == 2), 'OTTmembers'] = 1\n",
    "    ds.loc[ds['RelatAboard'] == 3, 'OTTmembers'] = 3\n",
    "\n",
    "comb[0][['OTTmembers', 'Survived']].groupby(['OTTmembers'], as_index=False).mean().sort_values(by='Survived', ascending=False)"
   ]
  },
  {
   "cell_type": "markdown",
   "metadata": {
    "papermill": {
     "duration": 0.045477,
     "end_time": "2021-02-02T13:25:25.626642",
     "exception": false,
     "start_time": "2021-02-02T13:25:25.581165",
     "status": "completed"
    },
    "tags": []
   },
   "source": [
    "Pretty distinct, sir.\n",
    "\n",
    "Let's look at the ranks of the passengers. That may bring some additional informativity."
   ]
  },
  {
   "cell_type": "code",
   "execution_count": 17,
   "metadata": {
    "execution": {
     "iopub.execute_input": "2021-02-02T13:25:25.722262Z",
     "iopub.status.busy": "2021-02-02T13:25:25.721567Z",
     "iopub.status.idle": "2021-02-02T13:25:25.736948Z",
     "shell.execute_reply": "2021-02-02T13:25:25.736382Z"
    },
    "papermill": {
     "duration": 0.064539,
     "end_time": "2021-02-02T13:25:25.737095",
     "exception": false,
     "start_time": "2021-02-02T13:25:25.672556",
     "status": "completed"
    },
    "tags": []
   },
   "outputs": [
    {
     "name": "stdout",
     "output_type": "stream",
     "text": [
      "{'Master.', 'Jonkheer.', 'Dr.', 'Don.', 'Rev.', 'Col.', 'Countess.', 'Capt.', 'Mme.', 'Mlle.', 'Mr.', 'Lady.', 'Sir.', 'Miss.', 'Major.', 'Ms.', 'Mrs.'}\n"
     ]
    }
   ],
   "source": [
    "for ds in comb:\n",
    "    ds['Rank'] = 0\n",
    "    rank = ds['Name'].str.extract(r'(\\w+\\.) ')\n",
    "    ds['Rank'] = rank\n",
    "\n",
    "ranks = set(comb[0]['Rank'].values)\n",
    "print(ranks)"
   ]
  },
  {
   "cell_type": "markdown",
   "metadata": {
    "papermill": {
     "duration": 0.046165,
     "end_time": "2021-02-02T13:25:25.829707",
     "exception": false,
     "start_time": "2021-02-02T13:25:25.783542",
     "status": "completed"
    },
    "tags": []
   },
   "source": [
    "Too many ranks! And they're not representative enough, so we will group them in the following way:"
   ]
  },
  {
   "cell_type": "code",
   "execution_count": 18,
   "metadata": {
    "execution": {
     "iopub.execute_input": "2021-02-02T13:25:25.927287Z",
     "iopub.status.busy": "2021-02-02T13:25:25.926549Z",
     "iopub.status.idle": "2021-02-02T13:25:25.950706Z",
     "shell.execute_reply": "2021-02-02T13:25:25.951211Z"
    },
    "papermill": {
     "duration": 0.075326,
     "end_time": "2021-02-02T13:25:25.951409",
     "exception": false,
     "start_time": "2021-02-02T13:25:25.876083",
     "status": "completed"
    },
    "tags": []
   },
   "outputs": [
    {
     "data": {
      "text/html": [
       "<div>\n",
       "<style scoped>\n",
       "    .dataframe tbody tr th:only-of-type {\n",
       "        vertical-align: middle;\n",
       "    }\n",
       "\n",
       "    .dataframe tbody tr th {\n",
       "        vertical-align: top;\n",
       "    }\n",
       "\n",
       "    .dataframe thead th {\n",
       "        text-align: right;\n",
       "    }\n",
       "</style>\n",
       "<table border=\"1\" class=\"dataframe\">\n",
       "  <thead>\n",
       "    <tr style=\"text-align: right;\">\n",
       "      <th></th>\n",
       "      <th>Rank</th>\n",
       "      <th>Survived</th>\n",
       "    </tr>\n",
       "  </thead>\n",
       "  <tbody>\n",
       "    <tr>\n",
       "      <th>3</th>\n",
       "      <td>Mrs.</td>\n",
       "      <td>0.792000</td>\n",
       "    </tr>\n",
       "    <tr>\n",
       "      <th>1</th>\n",
       "      <td>Miss.</td>\n",
       "      <td>0.705882</td>\n",
       "    </tr>\n",
       "    <tr>\n",
       "      <th>0</th>\n",
       "      <td>Master.</td>\n",
       "      <td>0.575000</td>\n",
       "    </tr>\n",
       "    <tr>\n",
       "      <th>4</th>\n",
       "      <td>Other</td>\n",
       "      <td>0.318182</td>\n",
       "    </tr>\n",
       "    <tr>\n",
       "      <th>2</th>\n",
       "      <td>Mr.</td>\n",
       "      <td>0.156673</td>\n",
       "    </tr>\n",
       "  </tbody>\n",
       "</table>\n",
       "</div>"
      ],
      "text/plain": [
       "      Rank  Survived\n",
       "3     Mrs.  0.792000\n",
       "1    Miss.  0.705882\n",
       "0  Master.  0.575000\n",
       "4    Other  0.318182\n",
       "2      Mr.  0.156673"
      ]
     },
     "execution_count": 18,
     "metadata": {},
     "output_type": "execute_result"
    }
   ],
   "source": [
    "ot_list = ['Capt.', 'Col.', 'Countess.', 'Don.', 'Dr.', 'Jonkheer.', 'Rev.', 'Sir.', 'Major.']\n",
    "miss_list = ['Lady.', 'Mlle.', 'Mme.', 'Ms.']\n",
    "\n",
    "for dataset in comb:\n",
    "    dataset['Rank'].replace(ot_list, 'Other', inplace=True)\n",
    "    dataset['Rank'].replace(miss_list, 'Miss.', inplace=True)\n",
    "    \n",
    "comb[0][['Rank', 'Survived']].groupby(['Rank'], as_index=False).mean().sort_values(by='Survived', ascending=False)"
   ]
  },
  {
   "cell_type": "markdown",
   "metadata": {
    "papermill": {
     "duration": 0.047537,
     "end_time": "2021-02-02T13:25:26.046156",
     "exception": false,
     "start_time": "2021-02-02T13:25:25.998619",
     "status": "completed"
    },
    "tags": []
   },
   "source": [
    "That looks nice!\n",
    "\n",
    " Now let's try to do something with Age column. I guess we need to split it into some groups. Let it be 5 groups."
   ]
  },
  {
   "cell_type": "code",
   "execution_count": 19,
   "metadata": {
    "execution": {
     "iopub.execute_input": "2021-02-02T13:25:26.146498Z",
     "iopub.status.busy": "2021-02-02T13:25:26.145791Z",
     "iopub.status.idle": "2021-02-02T13:25:26.177557Z",
     "shell.execute_reply": "2021-02-02T13:25:26.177003Z"
    },
    "papermill": {
     "duration": 0.083,
     "end_time": "2021-02-02T13:25:26.177714",
     "exception": false,
     "start_time": "2021-02-02T13:25:26.094714",
     "status": "completed"
    },
    "tags": []
   },
   "outputs": [
    {
     "data": {
      "text/html": [
       "<div>\n",
       "<style scoped>\n",
       "    .dataframe tbody tr th:only-of-type {\n",
       "        vertical-align: middle;\n",
       "    }\n",
       "\n",
       "    .dataframe tbody tr th {\n",
       "        vertical-align: top;\n",
       "    }\n",
       "\n",
       "    .dataframe thead th {\n",
       "        text-align: right;\n",
       "    }\n",
       "</style>\n",
       "<table border=\"1\" class=\"dataframe\">\n",
       "  <thead>\n",
       "    <tr style=\"text-align: right;\">\n",
       "      <th></th>\n",
       "      <th>AgeGroup</th>\n",
       "      <th>Survived</th>\n",
       "    </tr>\n",
       "  </thead>\n",
       "  <tbody>\n",
       "    <tr>\n",
       "      <th>4</th>\n",
       "      <td>(64.0, 80.0]</td>\n",
       "      <td>0.090909</td>\n",
       "    </tr>\n",
       "    <tr>\n",
       "      <th>3</th>\n",
       "      <td>(48.0, 64.0]</td>\n",
       "      <td>0.434783</td>\n",
       "    </tr>\n",
       "    <tr>\n",
       "      <th>2</th>\n",
       "      <td>(32.0, 48.0]</td>\n",
       "      <td>0.363636</td>\n",
       "    </tr>\n",
       "    <tr>\n",
       "      <th>1</th>\n",
       "      <td>(16.0, 32.0]</td>\n",
       "      <td>0.367946</td>\n",
       "    </tr>\n",
       "    <tr>\n",
       "      <th>0</th>\n",
       "      <td>(-0.08, 16.0]</td>\n",
       "      <td>0.486957</td>\n",
       "    </tr>\n",
       "  </tbody>\n",
       "</table>\n",
       "</div>"
      ],
      "text/plain": [
       "        AgeGroup  Survived\n",
       "4   (64.0, 80.0]  0.090909\n",
       "3   (48.0, 64.0]  0.434783\n",
       "2   (32.0, 48.0]  0.363636\n",
       "1   (16.0, 32.0]  0.367946\n",
       "0  (-0.08, 16.0]  0.486957"
      ]
     },
     "execution_count": 19,
     "metadata": {},
     "output_type": "execute_result"
    }
   ],
   "source": [
    "comb[0]['AgeGroup'] = pd.cut(comb[0]['Age'], 5)\n",
    "\n",
    "comb[0][['AgeGroup', 'Survived']].groupby(['AgeGroup'], as_index=False).mean().sort_values(by='AgeGroup', ascending=False)"
   ]
  },
  {
   "cell_type": "markdown",
   "metadata": {
    "papermill": {
     "duration": 0.049053,
     "end_time": "2021-02-02T13:25:26.278555",
     "exception": false,
     "start_time": "2021-02-02T13:25:26.229502",
     "status": "completed"
    },
    "tags": []
   },
   "source": [
    "Let's merge the 3rd and 2nd age groups, since they correlate almost equally with the fact of survival.\n",
    "\n",
    "Splitting Age into 4 categories:"
   ]
  },
  {
   "cell_type": "code",
   "execution_count": 20,
   "metadata": {
    "execution": {
     "iopub.execute_input": "2021-02-02T13:25:26.387103Z",
     "iopub.status.busy": "2021-02-02T13:25:26.386351Z",
     "iopub.status.idle": "2021-02-02T13:25:26.405730Z",
     "shell.execute_reply": "2021-02-02T13:25:26.406194Z"
    },
    "papermill": {
     "duration": 0.079392,
     "end_time": "2021-02-02T13:25:26.406394",
     "exception": false,
     "start_time": "2021-02-02T13:25:26.327002",
     "status": "completed"
    },
    "tags": []
   },
   "outputs": [
    {
     "data": {
      "text/html": [
       "<div>\n",
       "<style scoped>\n",
       "    .dataframe tbody tr th:only-of-type {\n",
       "        vertical-align: middle;\n",
       "    }\n",
       "\n",
       "    .dataframe tbody tr th {\n",
       "        vertical-align: top;\n",
       "    }\n",
       "\n",
       "    .dataframe thead th {\n",
       "        text-align: right;\n",
       "    }\n",
       "</style>\n",
       "<table border=\"1\" class=\"dataframe\">\n",
       "  <thead>\n",
       "    <tr style=\"text-align: right;\">\n",
       "      <th></th>\n",
       "      <th>Age</th>\n",
       "      <th>Survived</th>\n",
       "    </tr>\n",
       "  </thead>\n",
       "  <tbody>\n",
       "    <tr>\n",
       "      <th>0</th>\n",
       "      <td>0</td>\n",
       "      <td>0.544444</td>\n",
       "    </tr>\n",
       "    <tr>\n",
       "      <th>2</th>\n",
       "      <td>2</td>\n",
       "      <td>0.385965</td>\n",
       "    </tr>\n",
       "    <tr>\n",
       "      <th>1</th>\n",
       "      <td>1</td>\n",
       "      <td>0.358744</td>\n",
       "    </tr>\n",
       "    <tr>\n",
       "      <th>3</th>\n",
       "      <td>3</td>\n",
       "      <td>0.076923</td>\n",
       "    </tr>\n",
       "  </tbody>\n",
       "</table>\n",
       "</div>"
      ],
      "text/plain": [
       "   Age  Survived\n",
       "0    0  0.544444\n",
       "2    2  0.385965\n",
       "1    1  0.358744\n",
       "3    3  0.076923"
      ]
     },
     "execution_count": 20,
     "metadata": {},
     "output_type": "execute_result"
    }
   ],
   "source": [
    "for ds in comb:\n",
    "    ds.loc[ds['Age'] < 16, 'Age'] = 0\n",
    "    ds.loc[(ds['Age'] >= 16) & (ds['Age'] < 32), 'Age'] = 1\n",
    "    ds.loc[(ds['Age'] >= 32) & (ds['Age'] < 64), 'Age'] = 2\n",
    "    ds.loc[ds['Age'] >= 64, 'Age'] = 3\n",
    "    ds['Age'] = ds['Age'].astype(int)\n",
    "   \n",
    "comb[0][['Age', 'Survived']].groupby(['Age'], as_index=False).mean().sort_values(by='Survived', ascending=False) # As we can see, the division is pretty distinct."
   ]
  },
  {
   "cell_type": "markdown",
   "metadata": {
    "papermill": {
     "duration": 0.047981,
     "end_time": "2021-02-02T13:25:26.502851",
     "exception": false,
     "start_time": "2021-02-02T13:25:26.454870",
     "status": "completed"
    },
    "tags": []
   },
   "source": [
    "Now let's do something similiar to Fare column:"
   ]
  },
  {
   "cell_type": "code",
   "execution_count": 21,
   "metadata": {
    "execution": {
     "iopub.execute_input": "2021-02-02T13:25:26.603651Z",
     "iopub.status.busy": "2021-02-02T13:25:26.602643Z",
     "iopub.status.idle": "2021-02-02T13:25:26.626294Z",
     "shell.execute_reply": "2021-02-02T13:25:26.625646Z"
    },
    "papermill": {
     "duration": 0.075248,
     "end_time": "2021-02-02T13:25:26.626469",
     "exception": false,
     "start_time": "2021-02-02T13:25:26.551221",
     "status": "completed"
    },
    "tags": []
   },
   "outputs": [
    {
     "data": {
      "text/html": [
       "<div>\n",
       "<style scoped>\n",
       "    .dataframe tbody tr th:only-of-type {\n",
       "        vertical-align: middle;\n",
       "    }\n",
       "\n",
       "    .dataframe tbody tr th {\n",
       "        vertical-align: top;\n",
       "    }\n",
       "\n",
       "    .dataframe thead th {\n",
       "        text-align: right;\n",
       "    }\n",
       "</style>\n",
       "<table border=\"1\" class=\"dataframe\">\n",
       "  <thead>\n",
       "    <tr style=\"text-align: right;\">\n",
       "      <th></th>\n",
       "      <th>FareGroup</th>\n",
       "      <th>Survived</th>\n",
       "    </tr>\n",
       "  </thead>\n",
       "  <tbody>\n",
       "    <tr>\n",
       "      <th>4</th>\n",
       "      <td>(39.688, 512.329]</td>\n",
       "      <td>0.642045</td>\n",
       "    </tr>\n",
       "    <tr>\n",
       "      <th>3</th>\n",
       "      <td>(21.679, 39.688]</td>\n",
       "      <td>0.444444</td>\n",
       "    </tr>\n",
       "    <tr>\n",
       "      <th>2</th>\n",
       "      <td>(10.5, 21.679]</td>\n",
       "      <td>0.424419</td>\n",
       "    </tr>\n",
       "    <tr>\n",
       "      <th>1</th>\n",
       "      <td>(7.854, 10.5]</td>\n",
       "      <td>0.201087</td>\n",
       "    </tr>\n",
       "    <tr>\n",
       "      <th>0</th>\n",
       "      <td>(-0.001, 7.854]</td>\n",
       "      <td>0.217877</td>\n",
       "    </tr>\n",
       "  </tbody>\n",
       "</table>\n",
       "</div>"
      ],
      "text/plain": [
       "           FareGroup  Survived\n",
       "4  (39.688, 512.329]  0.642045\n",
       "3   (21.679, 39.688]  0.444444\n",
       "2     (10.5, 21.679]  0.424419\n",
       "1      (7.854, 10.5]  0.201087\n",
       "0    (-0.001, 7.854]  0.217877"
      ]
     },
     "execution_count": 21,
     "metadata": {},
     "output_type": "execute_result"
    }
   ],
   "source": [
    "comb[0]['FareGroup'] = pd.qcut(comb[0]['Fare'], 5)\n",
    "\n",
    "comb[0][['FareGroup', 'Survived']].groupby(['FareGroup'], as_index=False).mean().sort_values(by='FareGroup', ascending=False)"
   ]
  },
  {
   "cell_type": "markdown",
   "metadata": {
    "papermill": {
     "duration": 0.050192,
     "end_time": "2021-02-02T13:25:26.725663",
     "exception": false,
     "start_time": "2021-02-02T13:25:26.675471",
     "status": "completed"
    },
    "tags": []
   },
   "source": [
    "Merging groups with similiar correlation values:"
   ]
  },
  {
   "cell_type": "code",
   "execution_count": 22,
   "metadata": {
    "execution": {
     "iopub.execute_input": "2021-02-02T13:25:26.852074Z",
     "iopub.status.busy": "2021-02-02T13:25:26.841441Z",
     "iopub.status.idle": "2021-02-02T13:25:26.855973Z",
     "shell.execute_reply": "2021-02-02T13:25:26.856585Z"
    },
    "papermill": {
     "duration": 0.080847,
     "end_time": "2021-02-02T13:25:26.856779",
     "exception": false,
     "start_time": "2021-02-02T13:25:26.775932",
     "status": "completed"
    },
    "tags": []
   },
   "outputs": [
    {
     "data": {
      "text/html": [
       "<div>\n",
       "<style scoped>\n",
       "    .dataframe tbody tr th:only-of-type {\n",
       "        vertical-align: middle;\n",
       "    }\n",
       "\n",
       "    .dataframe tbody tr th {\n",
       "        vertical-align: top;\n",
       "    }\n",
       "\n",
       "    .dataframe thead th {\n",
       "        text-align: right;\n",
       "    }\n",
       "</style>\n",
       "<table border=\"1\" class=\"dataframe\">\n",
       "  <thead>\n",
       "    <tr style=\"text-align: right;\">\n",
       "      <th></th>\n",
       "      <th>Fare</th>\n",
       "      <th>Survived</th>\n",
       "    </tr>\n",
       "  </thead>\n",
       "  <tbody>\n",
       "    <tr>\n",
       "      <th>2</th>\n",
       "      <td>2</td>\n",
       "      <td>0.642045</td>\n",
       "    </tr>\n",
       "    <tr>\n",
       "      <th>1</th>\n",
       "      <td>1</td>\n",
       "      <td>0.434659</td>\n",
       "    </tr>\n",
       "    <tr>\n",
       "      <th>0</th>\n",
       "      <td>0</td>\n",
       "      <td>0.209366</td>\n",
       "    </tr>\n",
       "  </tbody>\n",
       "</table>\n",
       "</div>"
      ],
      "text/plain": [
       "   Fare  Survived\n",
       "2     2  0.642045\n",
       "1     1  0.434659\n",
       "0     0  0.209366"
      ]
     },
     "execution_count": 22,
     "metadata": {},
     "output_type": "execute_result"
    }
   ],
   "source": [
    "for ds in comb:\n",
    "    ds.loc[ds['Fare'] <= 10.5, 'Fare'] = 0\n",
    "    ds.loc[(ds['Fare'] > 10.5) & (ds['Fare'] <= 39.688), 'Fare'] = 1\n",
    "    ds.loc[ds['Fare'] > 39.688, 'Fare'] = 2\n",
    "    ds['Fare'] = ds['Fare'].astype(int)\n",
    "    \n",
    "comb[0][['Fare', 'Survived']].groupby(['Fare'], as_index=False).mean().sort_values(by='Survived', ascending=False)"
   ]
  },
  {
   "cell_type": "markdown",
   "metadata": {
    "papermill": {
     "duration": 0.050016,
     "end_time": "2021-02-02T13:25:26.957782",
     "exception": false,
     "start_time": "2021-02-02T13:25:26.907766",
     "status": "completed"
    },
    "tags": []
   },
   "source": [
    "Seems to be accurate."
   ]
  },
  {
   "cell_type": "markdown",
   "metadata": {
    "papermill": {
     "duration": 0.04966,
     "end_time": "2021-02-02T13:25:27.057429",
     "exception": false,
     "start_time": "2021-02-02T13:25:27.007769",
     "status": "completed"
    },
    "tags": []
   },
   "source": [
    "## Encoding\n",
    "#### We need our datasets to be numerical so as to be able to train a model. Let's encode everything we'll need into numbers."
   ]
  },
  {
   "cell_type": "code",
   "execution_count": 23,
   "metadata": {
    "execution": {
     "iopub.execute_input": "2021-02-02T13:25:27.161287Z",
     "iopub.status.busy": "2021-02-02T13:25:27.160598Z",
     "iopub.status.idle": "2021-02-02T13:25:27.175345Z",
     "shell.execute_reply": "2021-02-02T13:25:27.176005Z"
    },
    "papermill": {
     "duration": 0.069349,
     "end_time": "2021-02-02T13:25:27.176193",
     "exception": false,
     "start_time": "2021-02-02T13:25:27.106844",
     "status": "completed"
    },
    "tags": []
   },
   "outputs": [],
   "source": [
    "s_dict = {'male': 0, 'female': 1}\n",
    "\n",
    "for ds in comb:\n",
    "    ds['Sex'] = ds['Sex'].map(s_dict)\n",
    "    ds['Embarked'] = ds['Embarked'].astype('category').cat.codes\n",
    "    ds['TickType'] = ds['TickType'].astype('category').cat.codes\n",
    "    ds['Rank'] = ds['Rank'].astype('category').cat.codes"
   ]
  },
  {
   "cell_type": "markdown",
   "metadata": {
    "papermill": {
     "duration": 0.049289,
     "end_time": "2021-02-02T13:25:27.275016",
     "exception": false,
     "start_time": "2021-02-02T13:25:27.225727",
     "status": "completed"
    },
    "tags": []
   },
   "source": [
    "## Dropping\n",
    "\n",
    "#### There are some columns left that we don't need."
   ]
  },
  {
   "cell_type": "code",
   "execution_count": 24,
   "metadata": {
    "execution": {
     "iopub.execute_input": "2021-02-02T13:25:27.377267Z",
     "iopub.status.busy": "2021-02-02T13:25:27.376589Z",
     "iopub.status.idle": "2021-02-02T13:25:27.385014Z",
     "shell.execute_reply": "2021-02-02T13:25:27.385524Z"
    },
    "papermill": {
     "duration": 0.061165,
     "end_time": "2021-02-02T13:25:27.385712",
     "exception": false,
     "start_time": "2021-02-02T13:25:27.324547",
     "status": "completed"
    },
    "tags": []
   },
   "outputs": [],
   "source": [
    "drop_col_test = ['Cabin', 'Name', 'Parch', 'SibSp', 'RelatAboard', 'Ticket']\n",
    "drop_col_train = drop_col_test.copy()\n",
    "drop_col_train.extend(['FareGroup', 'AgeGroup', 'PassengerId'])\n",
    "\n",
    "comb[0] = comb[0].drop(columns=drop_col_train)\n",
    "comb[1] = comb[1].drop(columns=drop_col_test)"
   ]
  },
  {
   "cell_type": "markdown",
   "metadata": {
    "papermill": {
     "duration": 0.049143,
     "end_time": "2021-02-02T13:25:27.484548",
     "exception": false,
     "start_time": "2021-02-02T13:25:27.435405",
     "status": "completed"
    },
    "tags": []
   },
   "source": [
    "Now we can see that our both datasets are non-null & numerical and the data is cleverly divided into columns."
   ]
  },
  {
   "cell_type": "code",
   "execution_count": 25,
   "metadata": {
    "execution": {
     "iopub.execute_input": "2021-02-02T13:25:27.588330Z",
     "iopub.status.busy": "2021-02-02T13:25:27.587663Z",
     "iopub.status.idle": "2021-02-02T13:25:27.614944Z",
     "shell.execute_reply": "2021-02-02T13:25:27.615833Z"
    },
    "papermill": {
     "duration": 0.081909,
     "end_time": "2021-02-02T13:25:27.616102",
     "exception": false,
     "start_time": "2021-02-02T13:25:27.534193",
     "status": "completed"
    },
    "tags": []
   },
   "outputs": [
    {
     "name": "stdout",
     "output_type": "stream",
     "text": [
      "TRAIN DATA\n",
      "<class 'pandas.core.frame.DataFrame'>\n",
      "RangeIndex: 891 entries, 0 to 890\n",
      "Data columns (total 10 columns):\n",
      " #   Column      Non-Null Count  Dtype\n",
      "---  ------      --------------  -----\n",
      " 0   Survived    891 non-null    int64\n",
      " 1   Pclass      891 non-null    int64\n",
      " 2   Sex         891 non-null    int64\n",
      " 3   Age         891 non-null    int64\n",
      " 4   Fare        891 non-null    int64\n",
      " 5   Embarked    891 non-null    int8 \n",
      " 6   Cabin_Null  891 non-null    int64\n",
      " 7   TickType    891 non-null    int8 \n",
      " 8   OTTmembers  891 non-null    int64\n",
      " 9   Rank        891 non-null    int8 \n",
      "dtypes: int64(7), int8(3)\n",
      "memory usage: 51.5 KB\n",
      "---------------------------------------\n",
      "---------------------------------------\n",
      "TEST DATA\n",
      "<class 'pandas.core.frame.DataFrame'>\n",
      "RangeIndex: 418 entries, 0 to 417\n",
      "Data columns (total 10 columns):\n",
      " #   Column       Non-Null Count  Dtype\n",
      "---  ------       --------------  -----\n",
      " 0   PassengerId  418 non-null    int64\n",
      " 1   Pclass       418 non-null    int64\n",
      " 2   Sex          418 non-null    int64\n",
      " 3   Age          418 non-null    int64\n",
      " 4   Fare         418 non-null    int64\n",
      " 5   Embarked     418 non-null    int8 \n",
      " 6   Cabin_Null   418 non-null    int64\n",
      " 7   TickType     418 non-null    int8 \n",
      " 8   OTTmembers   418 non-null    int64\n",
      " 9   Rank         418 non-null    int8 \n",
      "dtypes: int64(7), int8(3)\n",
      "memory usage: 24.2 KB\n"
     ]
    }
   ],
   "source": [
    "print(\"TRAIN DATA\"), comb[0].info(), print(\"-\"*39), print(\"-\"*39), print(\"TEST DATA\"), comb[1].info();"
   ]
  },
  {
   "cell_type": "code",
   "execution_count": 26,
   "metadata": {
    "execution": {
     "iopub.execute_input": "2021-02-02T13:25:27.723145Z",
     "iopub.status.busy": "2021-02-02T13:25:27.722387Z",
     "iopub.status.idle": "2021-02-02T13:25:27.726702Z",
     "shell.execute_reply": "2021-02-02T13:25:27.727168Z"
    },
    "papermill": {
     "duration": 0.060247,
     "end_time": "2021-02-02T13:25:27.727360",
     "exception": false,
     "start_time": "2021-02-02T13:25:27.667113",
     "status": "completed"
    },
    "tags": []
   },
   "outputs": [],
   "source": [
    "train = comb[0]\n",
    "test = comb[1]"
   ]
  },
  {
   "cell_type": "markdown",
   "metadata": {
    "papermill": {
     "duration": 0.049903,
     "end_time": "2021-02-02T13:25:27.829464",
     "exception": false,
     "start_time": "2021-02-02T13:25:27.779561",
     "status": "completed"
    },
    "tags": []
   },
   "source": [
    "# Part 2. Correlations\n",
    "## Looking at the correlations again\n",
    "Let's look again at the correlations between different features and the fact of survival."
   ]
  },
  {
   "cell_type": "code",
   "execution_count": 27,
   "metadata": {
    "execution": {
     "iopub.execute_input": "2021-02-02T13:25:27.935156Z",
     "iopub.status.busy": "2021-02-02T13:25:27.934379Z",
     "iopub.status.idle": "2021-02-02T13:25:27.951064Z",
     "shell.execute_reply": "2021-02-02T13:25:27.950483Z"
    },
    "papermill": {
     "duration": 0.071438,
     "end_time": "2021-02-02T13:25:27.951212",
     "exception": false,
     "start_time": "2021-02-02T13:25:27.879774",
     "status": "completed"
    },
    "tags": []
   },
   "outputs": [
    {
     "data": {
      "text/html": [
       "<div>\n",
       "<style scoped>\n",
       "    .dataframe tbody tr th:only-of-type {\n",
       "        vertical-align: middle;\n",
       "    }\n",
       "\n",
       "    .dataframe tbody tr th {\n",
       "        vertical-align: top;\n",
       "    }\n",
       "\n",
       "    .dataframe thead th {\n",
       "        text-align: right;\n",
       "    }\n",
       "</style>\n",
       "<table border=\"1\" class=\"dataframe\">\n",
       "  <thead>\n",
       "    <tr style=\"text-align: right;\">\n",
       "      <th></th>\n",
       "      <th>Pclass</th>\n",
       "      <th>Survived</th>\n",
       "    </tr>\n",
       "  </thead>\n",
       "  <tbody>\n",
       "    <tr>\n",
       "      <th>0</th>\n",
       "      <td>1</td>\n",
       "      <td>0.629630</td>\n",
       "    </tr>\n",
       "    <tr>\n",
       "      <th>1</th>\n",
       "      <td>2</td>\n",
       "      <td>0.472826</td>\n",
       "    </tr>\n",
       "    <tr>\n",
       "      <th>2</th>\n",
       "      <td>3</td>\n",
       "      <td>0.242363</td>\n",
       "    </tr>\n",
       "  </tbody>\n",
       "</table>\n",
       "</div>"
      ],
      "text/plain": [
       "   Pclass  Survived\n",
       "0       1  0.629630\n",
       "1       2  0.472826\n",
       "2       3  0.242363"
      ]
     },
     "execution_count": 27,
     "metadata": {},
     "output_type": "execute_result"
    }
   ],
   "source": [
    "train[['Pclass', 'Survived']].groupby(['Pclass'], as_index=False).mean().sort_values(by='Survived', ascending=False)"
   ]
  },
  {
   "cell_type": "code",
   "execution_count": 28,
   "metadata": {
    "execution": {
     "iopub.execute_input": "2021-02-02T13:25:28.058818Z",
     "iopub.status.busy": "2021-02-02T13:25:28.058085Z",
     "iopub.status.idle": "2021-02-02T13:25:28.073383Z",
     "shell.execute_reply": "2021-02-02T13:25:28.073893Z"
    },
    "papermill": {
     "duration": 0.07019,
     "end_time": "2021-02-02T13:25:28.074087",
     "exception": false,
     "start_time": "2021-02-02T13:25:28.003897",
     "status": "completed"
    },
    "tags": []
   },
   "outputs": [
    {
     "data": {
      "text/html": [
       "<div>\n",
       "<style scoped>\n",
       "    .dataframe tbody tr th:only-of-type {\n",
       "        vertical-align: middle;\n",
       "    }\n",
       "\n",
       "    .dataframe tbody tr th {\n",
       "        vertical-align: top;\n",
       "    }\n",
       "\n",
       "    .dataframe thead th {\n",
       "        text-align: right;\n",
       "    }\n",
       "</style>\n",
       "<table border=\"1\" class=\"dataframe\">\n",
       "  <thead>\n",
       "    <tr style=\"text-align: right;\">\n",
       "      <th></th>\n",
       "      <th>Sex</th>\n",
       "      <th>Survived</th>\n",
       "    </tr>\n",
       "  </thead>\n",
       "  <tbody>\n",
       "    <tr>\n",
       "      <th>1</th>\n",
       "      <td>1</td>\n",
       "      <td>0.742038</td>\n",
       "    </tr>\n",
       "    <tr>\n",
       "      <th>0</th>\n",
       "      <td>0</td>\n",
       "      <td>0.188908</td>\n",
       "    </tr>\n",
       "  </tbody>\n",
       "</table>\n",
       "</div>"
      ],
      "text/plain": [
       "   Sex  Survived\n",
       "1    1  0.742038\n",
       "0    0  0.188908"
      ]
     },
     "execution_count": 28,
     "metadata": {},
     "output_type": "execute_result"
    }
   ],
   "source": [
    "train[['Sex', 'Survived']].groupby(['Sex'], as_index=False).mean().sort_values(by='Survived', ascending=False)"
   ]
  },
  {
   "cell_type": "code",
   "execution_count": 29,
   "metadata": {
    "execution": {
     "iopub.execute_input": "2021-02-02T13:25:28.182469Z",
     "iopub.status.busy": "2021-02-02T13:25:28.181782Z",
     "iopub.status.idle": "2021-02-02T13:25:28.197866Z",
     "shell.execute_reply": "2021-02-02T13:25:28.197282Z"
    },
    "papermill": {
     "duration": 0.071214,
     "end_time": "2021-02-02T13:25:28.198022",
     "exception": false,
     "start_time": "2021-02-02T13:25:28.126808",
     "status": "completed"
    },
    "tags": []
   },
   "outputs": [
    {
     "data": {
      "text/html": [
       "<div>\n",
       "<style scoped>\n",
       "    .dataframe tbody tr th:only-of-type {\n",
       "        vertical-align: middle;\n",
       "    }\n",
       "\n",
       "    .dataframe tbody tr th {\n",
       "        vertical-align: top;\n",
       "    }\n",
       "\n",
       "    .dataframe thead th {\n",
       "        text-align: right;\n",
       "    }\n",
       "</style>\n",
       "<table border=\"1\" class=\"dataframe\">\n",
       "  <thead>\n",
       "    <tr style=\"text-align: right;\">\n",
       "      <th></th>\n",
       "      <th>Age</th>\n",
       "      <th>Survived</th>\n",
       "    </tr>\n",
       "  </thead>\n",
       "  <tbody>\n",
       "    <tr>\n",
       "      <th>0</th>\n",
       "      <td>0</td>\n",
       "      <td>0.544444</td>\n",
       "    </tr>\n",
       "    <tr>\n",
       "      <th>2</th>\n",
       "      <td>2</td>\n",
       "      <td>0.385965</td>\n",
       "    </tr>\n",
       "    <tr>\n",
       "      <th>1</th>\n",
       "      <td>1</td>\n",
       "      <td>0.358744</td>\n",
       "    </tr>\n",
       "    <tr>\n",
       "      <th>3</th>\n",
       "      <td>3</td>\n",
       "      <td>0.076923</td>\n",
       "    </tr>\n",
       "  </tbody>\n",
       "</table>\n",
       "</div>"
      ],
      "text/plain": [
       "   Age  Survived\n",
       "0    0  0.544444\n",
       "2    2  0.385965\n",
       "1    1  0.358744\n",
       "3    3  0.076923"
      ]
     },
     "execution_count": 29,
     "metadata": {},
     "output_type": "execute_result"
    }
   ],
   "source": [
    "train[['Age', 'Survived']].groupby(['Age'], as_index=False).mean().sort_values(by='Survived', ascending=False)"
   ]
  },
  {
   "cell_type": "code",
   "execution_count": 30,
   "metadata": {
    "execution": {
     "iopub.execute_input": "2021-02-02T13:25:28.313186Z",
     "iopub.status.busy": "2021-02-02T13:25:28.312122Z",
     "iopub.status.idle": "2021-02-02T13:25:28.322812Z",
     "shell.execute_reply": "2021-02-02T13:25:28.323393Z"
    },
    "papermill": {
     "duration": 0.073352,
     "end_time": "2021-02-02T13:25:28.323593",
     "exception": false,
     "start_time": "2021-02-02T13:25:28.250241",
     "status": "completed"
    },
    "tags": []
   },
   "outputs": [
    {
     "data": {
      "text/html": [
       "<div>\n",
       "<style scoped>\n",
       "    .dataframe tbody tr th:only-of-type {\n",
       "        vertical-align: middle;\n",
       "    }\n",
       "\n",
       "    .dataframe tbody tr th {\n",
       "        vertical-align: top;\n",
       "    }\n",
       "\n",
       "    .dataframe thead th {\n",
       "        text-align: right;\n",
       "    }\n",
       "</style>\n",
       "<table border=\"1\" class=\"dataframe\">\n",
       "  <thead>\n",
       "    <tr style=\"text-align: right;\">\n",
       "      <th></th>\n",
       "      <th>Fare</th>\n",
       "      <th>Survived</th>\n",
       "    </tr>\n",
       "  </thead>\n",
       "  <tbody>\n",
       "    <tr>\n",
       "      <th>2</th>\n",
       "      <td>2</td>\n",
       "      <td>0.642045</td>\n",
       "    </tr>\n",
       "    <tr>\n",
       "      <th>1</th>\n",
       "      <td>1</td>\n",
       "      <td>0.434659</td>\n",
       "    </tr>\n",
       "    <tr>\n",
       "      <th>0</th>\n",
       "      <td>0</td>\n",
       "      <td>0.209366</td>\n",
       "    </tr>\n",
       "  </tbody>\n",
       "</table>\n",
       "</div>"
      ],
      "text/plain": [
       "   Fare  Survived\n",
       "2     2  0.642045\n",
       "1     1  0.434659\n",
       "0     0  0.209366"
      ]
     },
     "execution_count": 30,
     "metadata": {},
     "output_type": "execute_result"
    }
   ],
   "source": [
    "train[['Fare', 'Survived']].groupby(['Fare'], as_index=False).mean().sort_values(by='Survived', ascending=False)"
   ]
  },
  {
   "cell_type": "code",
   "execution_count": 31,
   "metadata": {
    "execution": {
     "iopub.execute_input": "2021-02-02T13:25:28.444273Z",
     "iopub.status.busy": "2021-02-02T13:25:28.443516Z",
     "iopub.status.idle": "2021-02-02T13:25:28.455647Z",
     "shell.execute_reply": "2021-02-02T13:25:28.454978Z"
    },
    "papermill": {
     "duration": 0.073962,
     "end_time": "2021-02-02T13:25:28.455845",
     "exception": false,
     "start_time": "2021-02-02T13:25:28.381883",
     "status": "completed"
    },
    "tags": []
   },
   "outputs": [
    {
     "data": {
      "text/html": [
       "<div>\n",
       "<style scoped>\n",
       "    .dataframe tbody tr th:only-of-type {\n",
       "        vertical-align: middle;\n",
       "    }\n",
       "\n",
       "    .dataframe tbody tr th {\n",
       "        vertical-align: top;\n",
       "    }\n",
       "\n",
       "    .dataframe thead th {\n",
       "        text-align: right;\n",
       "    }\n",
       "</style>\n",
       "<table border=\"1\" class=\"dataframe\">\n",
       "  <thead>\n",
       "    <tr style=\"text-align: right;\">\n",
       "      <th></th>\n",
       "      <th>Embarked</th>\n",
       "      <th>Survived</th>\n",
       "    </tr>\n",
       "  </thead>\n",
       "  <tbody>\n",
       "    <tr>\n",
       "      <th>0</th>\n",
       "      <td>0</td>\n",
       "      <td>0.553571</td>\n",
       "    </tr>\n",
       "    <tr>\n",
       "      <th>1</th>\n",
       "      <td>1</td>\n",
       "      <td>0.389610</td>\n",
       "    </tr>\n",
       "    <tr>\n",
       "      <th>2</th>\n",
       "      <td>2</td>\n",
       "      <td>0.339009</td>\n",
       "    </tr>\n",
       "  </tbody>\n",
       "</table>\n",
       "</div>"
      ],
      "text/plain": [
       "   Embarked  Survived\n",
       "0         0  0.553571\n",
       "1         1  0.389610\n",
       "2         2  0.339009"
      ]
     },
     "execution_count": 31,
     "metadata": {},
     "output_type": "execute_result"
    }
   ],
   "source": [
    "train[['Embarked', 'Survived']].groupby(['Embarked'], as_index=False).mean().sort_values(by='Survived', ascending=False)"
   ]
  },
  {
   "cell_type": "code",
   "execution_count": 32,
   "metadata": {
    "execution": {
     "iopub.execute_input": "2021-02-02T13:25:28.578774Z",
     "iopub.status.busy": "2021-02-02T13:25:28.577844Z",
     "iopub.status.idle": "2021-02-02T13:25:28.582733Z",
     "shell.execute_reply": "2021-02-02T13:25:28.582183Z"
    },
    "papermill": {
     "duration": 0.074033,
     "end_time": "2021-02-02T13:25:28.582880",
     "exception": false,
     "start_time": "2021-02-02T13:25:28.508847",
     "status": "completed"
    },
    "tags": []
   },
   "outputs": [
    {
     "data": {
      "text/html": [
       "<div>\n",
       "<style scoped>\n",
       "    .dataframe tbody tr th:only-of-type {\n",
       "        vertical-align: middle;\n",
       "    }\n",
       "\n",
       "    .dataframe tbody tr th {\n",
       "        vertical-align: top;\n",
       "    }\n",
       "\n",
       "    .dataframe thead th {\n",
       "        text-align: right;\n",
       "    }\n",
       "</style>\n",
       "<table border=\"1\" class=\"dataframe\">\n",
       "  <thead>\n",
       "    <tr style=\"text-align: right;\">\n",
       "      <th></th>\n",
       "      <th>Cabin_Null</th>\n",
       "      <th>Survived</th>\n",
       "    </tr>\n",
       "  </thead>\n",
       "  <tbody>\n",
       "    <tr>\n",
       "      <th>0</th>\n",
       "      <td>0</td>\n",
       "      <td>0.666667</td>\n",
       "    </tr>\n",
       "    <tr>\n",
       "      <th>1</th>\n",
       "      <td>1</td>\n",
       "      <td>0.299854</td>\n",
       "    </tr>\n",
       "  </tbody>\n",
       "</table>\n",
       "</div>"
      ],
      "text/plain": [
       "   Cabin_Null  Survived\n",
       "0           0  0.666667\n",
       "1           1  0.299854"
      ]
     },
     "execution_count": 32,
     "metadata": {},
     "output_type": "execute_result"
    }
   ],
   "source": [
    "train[['Cabin_Null', 'Survived']].groupby(['Cabin_Null'], as_index=False).mean().sort_values(by='Survived', ascending=False)"
   ]
  },
  {
   "cell_type": "code",
   "execution_count": 33,
   "metadata": {
    "execution": {
     "iopub.execute_input": "2021-02-02T13:25:28.708922Z",
     "iopub.status.busy": "2021-02-02T13:25:28.707786Z",
     "iopub.status.idle": "2021-02-02T13:25:28.712860Z",
     "shell.execute_reply": "2021-02-02T13:25:28.712127Z"
    },
    "papermill": {
     "duration": 0.076354,
     "end_time": "2021-02-02T13:25:28.713022",
     "exception": false,
     "start_time": "2021-02-02T13:25:28.636668",
     "status": "completed"
    },
    "tags": []
   },
   "outputs": [
    {
     "data": {
      "text/html": [
       "<div>\n",
       "<style scoped>\n",
       "    .dataframe tbody tr th:only-of-type {\n",
       "        vertical-align: middle;\n",
       "    }\n",
       "\n",
       "    .dataframe tbody tr th {\n",
       "        vertical-align: top;\n",
       "    }\n",
       "\n",
       "    .dataframe thead th {\n",
       "        text-align: right;\n",
       "    }\n",
       "</style>\n",
       "<table border=\"1\" class=\"dataframe\">\n",
       "  <thead>\n",
       "    <tr style=\"text-align: right;\">\n",
       "      <th></th>\n",
       "      <th>TickType</th>\n",
       "      <th>Survived</th>\n",
       "    </tr>\n",
       "  </thead>\n",
       "  <tbody>\n",
       "    <tr>\n",
       "      <th>3</th>\n",
       "      <td>3</td>\n",
       "      <td>0.646154</td>\n",
       "    </tr>\n",
       "    <tr>\n",
       "      <th>2</th>\n",
       "      <td>2</td>\n",
       "      <td>0.385417</td>\n",
       "    </tr>\n",
       "    <tr>\n",
       "      <th>1</th>\n",
       "      <td>1</td>\n",
       "      <td>0.340426</td>\n",
       "    </tr>\n",
       "    <tr>\n",
       "      <th>4</th>\n",
       "      <td>4</td>\n",
       "      <td>0.323077</td>\n",
       "    </tr>\n",
       "    <tr>\n",
       "      <th>5</th>\n",
       "      <td>5</td>\n",
       "      <td>0.153846</td>\n",
       "    </tr>\n",
       "    <tr>\n",
       "      <th>0</th>\n",
       "      <td>0</td>\n",
       "      <td>0.068966</td>\n",
       "    </tr>\n",
       "  </tbody>\n",
       "</table>\n",
       "</div>"
      ],
      "text/plain": [
       "   TickType  Survived\n",
       "3         3  0.646154\n",
       "2         2  0.385417\n",
       "1         1  0.340426\n",
       "4         4  0.323077\n",
       "5         5  0.153846\n",
       "0         0  0.068966"
      ]
     },
     "execution_count": 33,
     "metadata": {},
     "output_type": "execute_result"
    }
   ],
   "source": [
    "train[['TickType', 'Survived']].groupby(['TickType'], as_index=False).mean().sort_values(by='Survived', ascending=False)"
   ]
  },
  {
   "cell_type": "code",
   "execution_count": 34,
   "metadata": {
    "execution": {
     "iopub.execute_input": "2021-02-02T13:25:28.838544Z",
     "iopub.status.busy": "2021-02-02T13:25:28.835698Z",
     "iopub.status.idle": "2021-02-02T13:25:28.849826Z",
     "shell.execute_reply": "2021-02-02T13:25:28.849138Z"
    },
    "papermill": {
     "duration": 0.077625,
     "end_time": "2021-02-02T13:25:28.849982",
     "exception": false,
     "start_time": "2021-02-02T13:25:28.772357",
     "status": "completed"
    },
    "tags": []
   },
   "outputs": [
    {
     "data": {
      "text/html": [
       "<div>\n",
       "<style scoped>\n",
       "    .dataframe tbody tr th:only-of-type {\n",
       "        vertical-align: middle;\n",
       "    }\n",
       "\n",
       "    .dataframe tbody tr th {\n",
       "        vertical-align: top;\n",
       "    }\n",
       "\n",
       "    .dataframe thead th {\n",
       "        text-align: right;\n",
       "    }\n",
       "</style>\n",
       "<table border=\"1\" class=\"dataframe\">\n",
       "  <thead>\n",
       "    <tr style=\"text-align: right;\">\n",
       "      <th></th>\n",
       "      <th>OTTmembers</th>\n",
       "      <th>Survived</th>\n",
       "    </tr>\n",
       "  </thead>\n",
       "  <tbody>\n",
       "    <tr>\n",
       "      <th>3</th>\n",
       "      <td>3</td>\n",
       "      <td>0.724138</td>\n",
       "    </tr>\n",
       "    <tr>\n",
       "      <th>1</th>\n",
       "      <td>1</td>\n",
       "      <td>0.562738</td>\n",
       "    </tr>\n",
       "    <tr>\n",
       "      <th>0</th>\n",
       "      <td>0</td>\n",
       "      <td>0.303538</td>\n",
       "    </tr>\n",
       "    <tr>\n",
       "      <th>2</th>\n",
       "      <td>2</td>\n",
       "      <td>0.161290</td>\n",
       "    </tr>\n",
       "  </tbody>\n",
       "</table>\n",
       "</div>"
      ],
      "text/plain": [
       "   OTTmembers  Survived\n",
       "3           3  0.724138\n",
       "1           1  0.562738\n",
       "0           0  0.303538\n",
       "2           2  0.161290"
      ]
     },
     "execution_count": 34,
     "metadata": {},
     "output_type": "execute_result"
    }
   ],
   "source": [
    "train[['OTTmembers', 'Survived']].groupby(['OTTmembers'], as_index=False).mean().sort_values(by='Survived', ascending=False)"
   ]
  },
  {
   "cell_type": "code",
   "execution_count": 35,
   "metadata": {
    "execution": {
     "iopub.execute_input": "2021-02-02T13:25:28.971931Z",
     "iopub.status.busy": "2021-02-02T13:25:28.970667Z",
     "iopub.status.idle": "2021-02-02T13:25:28.985055Z",
     "shell.execute_reply": "2021-02-02T13:25:28.984488Z"
    },
    "papermill": {
     "duration": 0.079611,
     "end_time": "2021-02-02T13:25:28.985204",
     "exception": false,
     "start_time": "2021-02-02T13:25:28.905593",
     "status": "completed"
    },
    "tags": []
   },
   "outputs": [
    {
     "data": {
      "text/html": [
       "<div>\n",
       "<style scoped>\n",
       "    .dataframe tbody tr th:only-of-type {\n",
       "        vertical-align: middle;\n",
       "    }\n",
       "\n",
       "    .dataframe tbody tr th {\n",
       "        vertical-align: top;\n",
       "    }\n",
       "\n",
       "    .dataframe thead th {\n",
       "        text-align: right;\n",
       "    }\n",
       "</style>\n",
       "<table border=\"1\" class=\"dataframe\">\n",
       "  <thead>\n",
       "    <tr style=\"text-align: right;\">\n",
       "      <th></th>\n",
       "      <th>Rank</th>\n",
       "      <th>Survived</th>\n",
       "    </tr>\n",
       "  </thead>\n",
       "  <tbody>\n",
       "    <tr>\n",
       "      <th>3</th>\n",
       "      <td>3</td>\n",
       "      <td>0.792000</td>\n",
       "    </tr>\n",
       "    <tr>\n",
       "      <th>1</th>\n",
       "      <td>1</td>\n",
       "      <td>0.705882</td>\n",
       "    </tr>\n",
       "    <tr>\n",
       "      <th>0</th>\n",
       "      <td>0</td>\n",
       "      <td>0.575000</td>\n",
       "    </tr>\n",
       "    <tr>\n",
       "      <th>4</th>\n",
       "      <td>4</td>\n",
       "      <td>0.318182</td>\n",
       "    </tr>\n",
       "    <tr>\n",
       "      <th>2</th>\n",
       "      <td>2</td>\n",
       "      <td>0.156673</td>\n",
       "    </tr>\n",
       "  </tbody>\n",
       "</table>\n",
       "</div>"
      ],
      "text/plain": [
       "   Rank  Survived\n",
       "3     3  0.792000\n",
       "1     1  0.705882\n",
       "0     0  0.575000\n",
       "4     4  0.318182\n",
       "2     2  0.156673"
      ]
     },
     "execution_count": 35,
     "metadata": {},
     "output_type": "execute_result"
    }
   ],
   "source": [
    "train[['Rank', 'Survived']].groupby(['Rank'], as_index=False).mean().sort_values(by='Survived', ascending=False)"
   ]
  },
  {
   "cell_type": "markdown",
   "metadata": {
    "papermill": {
     "duration": 0.056123,
     "end_time": "2021-02-02T13:25:29.097151",
     "exception": false,
     "start_time": "2021-02-02T13:25:29.041028",
     "status": "completed"
    },
    "tags": []
   },
   "source": [
    "# Part 3. Modelling\n",
    "## Data preparation"
   ]
  },
  {
   "cell_type": "markdown",
   "metadata": {
    "papermill": {
     "duration": 0.054907,
     "end_time": "2021-02-02T13:25:29.207115",
     "exception": false,
     "start_time": "2021-02-02T13:25:29.152208",
     "status": "completed"
    },
    "tags": []
   },
   "source": [
    "We're gonna split our training dataset into two datasets so as to get some information on how our models are going to perform on test data."
   ]
  },
  {
   "cell_type": "code",
   "execution_count": 36,
   "metadata": {
    "execution": {
     "iopub.execute_input": "2021-02-02T13:25:29.327453Z",
     "iopub.status.busy": "2021-02-02T13:25:29.326644Z",
     "iopub.status.idle": "2021-02-02T13:25:29.332627Z",
     "shell.execute_reply": "2021-02-02T13:25:29.331894Z"
    },
    "papermill": {
     "duration": 0.069858,
     "end_time": "2021-02-02T13:25:29.332778",
     "exception": false,
     "start_time": "2021-02-02T13:25:29.262920",
     "status": "completed"
    },
    "tags": []
   },
   "outputs": [],
   "source": [
    "y_list = list(train['Survived'])\n",
    "y = pd.Series(y_list, name='Survived')\n",
    "X = train.drop(columns='Survived')\n",
    "\n",
    "X_train, X_test, y_train, y_test = train_test_split(X, y, random_state=42, test_size=0.2)"
   ]
  },
  {
   "cell_type": "markdown",
   "metadata": {
    "papermill": {
     "duration": 0.054766,
     "end_time": "2021-02-02T13:25:29.443846",
     "exception": false,
     "start_time": "2021-02-02T13:25:29.389080",
     "status": "completed"
    },
    "tags": []
   },
   "source": [
    "## RandomForest"
   ]
  },
  {
   "cell_type": "code",
   "execution_count": 37,
   "metadata": {
    "execution": {
     "iopub.execute_input": "2021-02-02T13:25:29.569297Z",
     "iopub.status.busy": "2021-02-02T13:25:29.563849Z",
     "iopub.status.idle": "2021-02-02T13:25:31.309600Z",
     "shell.execute_reply": "2021-02-02T13:25:31.308922Z"
    },
    "papermill": {
     "duration": 1.810619,
     "end_time": "2021-02-02T13:25:31.309787",
     "exception": false,
     "start_time": "2021-02-02T13:25:29.499168",
     "status": "completed"
    },
    "tags": []
   },
   "outputs": [
    {
     "name": "stdout",
     "output_type": "stream",
     "text": [
      "Accuracy on train data:  0.8946629213483146\n",
      "Accuracy on test data:  0.8379888268156425\n"
     ]
    }
   ],
   "source": [
    "random_forest = RandomForestClassifier(bootstrap=True, n_estimators=700, criterion='entropy')\n",
    "random_forest.fit(X_train, y_train)\n",
    "\n",
    "print(\"Accuracy on train data: \", random_forest.score(X_train, y_train))\n",
    "print(\"Accuracy on test data: \", random_forest.score(X_test, y_test))"
   ]
  },
  {
   "cell_type": "markdown",
   "metadata": {
    "papermill": {
     "duration": 0.057061,
     "end_time": "2021-02-02T13:25:31.423245",
     "exception": false,
     "start_time": "2021-02-02T13:25:31.366184",
     "status": "completed"
    },
    "tags": []
   },
   "source": [
    "## K-Neighbours"
   ]
  },
  {
   "cell_type": "code",
   "execution_count": 38,
   "metadata": {
    "execution": {
     "iopub.execute_input": "2021-02-02T13:25:31.545442Z",
     "iopub.status.busy": "2021-02-02T13:25:31.544711Z",
     "iopub.status.idle": "2021-02-02T13:26:25.076957Z",
     "shell.execute_reply": "2021-02-02T13:26:25.077536Z"
    },
    "papermill": {
     "duration": 53.597798,
     "end_time": "2021-02-02T13:26:25.077730",
     "exception": false,
     "start_time": "2021-02-02T13:25:31.479932",
     "status": "completed"
    },
    "tags": []
   },
   "outputs": [
    {
     "name": "stdout",
     "output_type": "stream",
     "text": [
      "Accuracy on train data:  0.8856183608982117\n",
      "Accuracy on test data:  0.8519305019305019\n"
     ]
    }
   ],
   "source": [
    "params={'n_neighbors' : range(1, 20), 'leaf_size' : range(1, 50)}\n",
    "\n",
    "knn_grid = GridSearchCV(KNeighborsClassifier(), params, scoring='roc_auc')\n",
    "knn_grid.fit(X_train, y_train)\n",
    "\n",
    "print(\"Accuracy on train data: \", knn_grid.score(X_train, y_train))\n",
    "print(\"Accuracy on test data: \", knn_grid.score(X_test, y_test))"
   ]
  },
  {
   "cell_type": "markdown",
   "metadata": {
    "papermill": {
     "duration": 0.05605,
     "end_time": "2021-02-02T13:26:25.192150",
     "exception": false,
     "start_time": "2021-02-02T13:26:25.136100",
     "status": "completed"
    },
    "tags": []
   },
   "source": [
    "## Ridge Classifier"
   ]
  },
  {
   "cell_type": "code",
   "execution_count": 39,
   "metadata": {
    "execution": {
     "iopub.execute_input": "2021-02-02T13:26:25.315075Z",
     "iopub.status.busy": "2021-02-02T13:26:25.314034Z",
     "iopub.status.idle": "2021-02-02T13:26:29.058555Z",
     "shell.execute_reply": "2021-02-02T13:26:29.059131Z"
    },
    "papermill": {
     "duration": 3.810248,
     "end_time": "2021-02-02T13:26:29.059308",
     "exception": false,
     "start_time": "2021-02-02T13:26:25.249060",
     "status": "completed"
    },
    "tags": []
   },
   "outputs": [
    {
     "name": "stdout",
     "output_type": "stream",
     "text": [
      "Accuracy on train data:  0.8477334610730133\n",
      "Accuracy on test data:  0.8774131274131274\n"
     ]
    }
   ],
   "source": [
    "params2 = {'alpha' : [0.00001, 0.0001, 0.001, 0.01, 1, 10, 100, 1000], 'normalize' : [True, False], 'random_state' : [0, 50, 100, 150, 200]}\n",
    "\n",
    "r_grid = GridSearchCV(RidgeClassifier(), params2, scoring='roc_auc')\n",
    "r_grid.fit(X_train, y_train)\n",
    "\n",
    "print(\"Accuracy on train data: \", r_grid.score(X_train, y_train))\n",
    "print(\"Accuracy on test data: \", r_grid.score(X_test, y_test))"
   ]
  },
  {
   "cell_type": "markdown",
   "metadata": {
    "papermill": {
     "duration": 0.057949,
     "end_time": "2021-02-02T13:26:29.178870",
     "exception": false,
     "start_time": "2021-02-02T13:26:29.120921",
     "status": "completed"
    },
    "tags": []
   },
   "source": [
    "## SVM"
   ]
  },
  {
   "cell_type": "code",
   "execution_count": 40,
   "metadata": {
    "execution": {
     "iopub.execute_input": "2021-02-02T13:26:29.297220Z",
     "iopub.status.busy": "2021-02-02T13:26:29.296504Z",
     "iopub.status.idle": "2021-02-02T13:26:29.457483Z",
     "shell.execute_reply": "2021-02-02T13:26:29.456905Z"
    },
    "papermill": {
     "duration": 0.221056,
     "end_time": "2021-02-02T13:26:29.457644",
     "exception": false,
     "start_time": "2021-02-02T13:26:29.236588",
     "status": "completed"
    },
    "tags": []
   },
   "outputs": [
    {
     "name": "stdout",
     "output_type": "stream",
     "text": [
      "Accuracy on train data:  0.8932584269662921\n",
      "Accuracy on test data:  0.7988826815642458\n"
     ]
    }
   ],
   "source": [
    "svm_classifier = svm.SVC(kernel=\"poly\", C=3, degree=6)\n",
    "svm_classifier.fit(X_train, y_train)\n",
    "\n",
    "print(\"Accuracy on train data: \", svm_classifier.score(X_train, y_train))\n",
    "print(\"Accuracy on test data: \", svm_classifier.score(X_test, y_test))"
   ]
  },
  {
   "cell_type": "markdown",
   "metadata": {
    "papermill": {
     "duration": 0.057132,
     "end_time": "2021-02-02T13:26:29.572328",
     "exception": false,
     "start_time": "2021-02-02T13:26:29.515196",
     "status": "completed"
    },
    "tags": []
   },
   "source": [
    "## XGBoost"
   ]
  },
  {
   "cell_type": "code",
   "execution_count": 41,
   "metadata": {
    "execution": {
     "iopub.execute_input": "2021-02-02T13:26:29.694659Z",
     "iopub.status.busy": "2021-02-02T13:26:29.693855Z",
     "iopub.status.idle": "2021-02-02T13:26:30.682926Z",
     "shell.execute_reply": "2021-02-02T13:26:30.683693Z"
    },
    "papermill": {
     "duration": 1.054453,
     "end_time": "2021-02-02T13:26:30.683974",
     "exception": false,
     "start_time": "2021-02-02T13:26:29.629521",
     "status": "completed"
    },
    "tags": []
   },
   "outputs": [
    {
     "name": "stdout",
     "output_type": "stream",
     "text": [
      "Accuracy on train data:  0.8679775280898876\n",
      "Accuracy on test data:  0.8324022346368715\n"
     ]
    }
   ],
   "source": [
    "gbm = xgb.XGBClassifier(\n",
    "    learning_rate = 0.02,\n",
    "    use_label_encoder=False,\n",
    "    n_estimators= 2000,\n",
    "    max_depth= 4,\n",
    "    min_child_weight= 2,\n",
    "    #gamma=1,\n",
    "    gamma=0.9,\n",
    "    subsample=0.8,\n",
    "    colsample_bytree=0.8,\n",
    "    objective= 'binary:logistic',\n",
    "    nthread= -1,\n",
    "    eval_metric = 'error',\n",
    "    scale_pos_weight=1).fit(X_train, y_train)\n",
    "\n",
    "print(\"Accuracy on train data: \", gbm.score(X_train, y_train))\n",
    "print(\"Accuracy on test data: \", gbm.score(X_test, y_test))"
   ]
  },
  {
   "cell_type": "markdown",
   "metadata": {
    "papermill": {
     "duration": 0.059699,
     "end_time": "2021-02-02T13:26:30.803606",
     "exception": false,
     "start_time": "2021-02-02T13:26:30.743907",
     "status": "completed"
    },
    "tags": []
   },
   "source": [
    "# Part 4. Final Model Choice\n",
    "## SVM "
   ]
  },
  {
   "cell_type": "code",
   "execution_count": 42,
   "metadata": {
    "execution": {
     "iopub.execute_input": "2021-02-02T13:26:30.933974Z",
     "iopub.status.busy": "2021-02-02T13:26:30.933157Z",
     "iopub.status.idle": "2021-02-02T13:26:30.938254Z",
     "shell.execute_reply": "2021-02-02T13:26:30.937729Z"
    },
    "papermill": {
     "duration": 0.076938,
     "end_time": "2021-02-02T13:26:30.938456",
     "exception": false,
     "start_time": "2021-02-02T13:26:30.861518",
     "status": "completed"
    },
    "tags": []
   },
   "outputs": [
    {
     "data": {
      "text/plain": [
       "((891, 9), (418, 9), (891,))"
      ]
     },
     "execution_count": 42,
     "metadata": {},
     "output_type": "execute_result"
    }
   ],
   "source": [
    "# Dividing our dataset into X and Y (ground truth).\n",
    "\n",
    "Y_train_full = train['Survived']\n",
    "X_train_full = train.drop(columns='Survived')\n",
    "X_test_full = test.drop(columns='PassengerId')\n",
    "\n",
    "X_train_full.shape, X_test_full.shape, Y_train_full.shape"
   ]
  },
  {
   "cell_type": "code",
   "execution_count": 43,
   "metadata": {
    "execution": {
     "iopub.execute_input": "2021-02-02T13:26:31.065499Z",
     "iopub.status.busy": "2021-02-02T13:26:31.064815Z",
     "iopub.status.idle": "2021-02-02T13:26:31.141772Z",
     "shell.execute_reply": "2021-02-02T13:26:31.142272Z"
    },
    "papermill": {
     "duration": 0.143838,
     "end_time": "2021-02-02T13:26:31.142470",
     "exception": false,
     "start_time": "2021-02-02T13:26:30.998632",
     "status": "completed"
    },
    "tags": []
   },
   "outputs": [
    {
     "name": "stdout",
     "output_type": "stream",
     "text": [
      "Accuracy on train data:  0.8451178451178452\n"
     ]
    }
   ],
   "source": [
    "model = svm.SVC(kernel=\"poly\", C=2)\n",
    "model.fit(X_train_full, Y_train_full)\n",
    "\n",
    "print(\"Accuracy on train data: \", model.score(X_train_full, Y_train_full))"
   ]
  },
  {
   "cell_type": "code",
   "execution_count": 44,
   "metadata": {
    "execution": {
     "iopub.execute_input": "2021-02-02T13:26:31.266466Z",
     "iopub.status.busy": "2021-02-02T13:26:31.265775Z",
     "iopub.status.idle": "2021-02-02T13:26:31.275125Z",
     "shell.execute_reply": "2021-02-02T13:26:31.274419Z"
    },
    "papermill": {
     "duration": 0.074542,
     "end_time": "2021-02-02T13:26:31.275273",
     "exception": false,
     "start_time": "2021-02-02T13:26:31.200731",
     "status": "completed"
    },
    "tags": []
   },
   "outputs": [
    {
     "data": {
      "text/plain": [
       "array([0, 0, 0, 0, 1, 0, 1, 0, 1, 0, 0, 0, 1, 0, 1, 1, 0, 0, 0, 1, 0, 0,\n",
       "       1, 0, 1, 0, 1, 0, 0, 0, 0, 0, 0, 0, 1, 0, 1, 1, 0, 0, 0, 0, 0, 1,\n",
       "       1, 0, 0, 0, 1, 0, 0, 0, 1, 1, 0, 0, 0, 0, 0, 1, 0, 0, 0, 1, 0, 1,\n",
       "       1, 0, 1, 1, 1, 0, 1, 0, 1, 0, 0, 1, 0, 1, 1, 0, 0, 0, 0, 0, 1, 1,\n",
       "       1, 1, 1, 0, 1, 0, 0, 0, 1, 0, 1, 0, 1, 0, 0, 0, 1, 0, 0, 0, 0, 0,\n",
       "       0, 1, 1, 1, 1, 0, 0, 1, 0, 1, 1, 0, 1, 0, 0, 1, 0, 1, 0, 0, 0, 1,\n",
       "       0, 0, 0, 0, 0, 0, 1, 0, 0, 1, 0, 0, 0, 0, 0, 0, 0, 0, 1, 0, 0, 1,\n",
       "       0, 0, 1, 1, 0, 0, 1, 1, 1, 0, 0, 1, 0, 0, 1, 1, 0, 0, 0, 0, 0, 1,\n",
       "       1, 0, 1, 1, 0, 0, 1, 0, 1, 0, 1, 0, 0, 0, 0, 0, 0, 0, 1, 0, 1, 1,\n",
       "       0, 0, 1, 0, 1, 1, 0, 0, 1, 0, 1, 0, 0, 0, 0, 1, 0, 0, 1, 0, 1, 0,\n",
       "       1, 0, 0, 0, 1, 1, 0, 1, 0, 0, 0, 1, 0, 0, 0, 0, 0, 0, 1, 1, 1, 1,\n",
       "       0, 0, 0, 0, 1, 0, 1, 1, 1, 0, 1, 0, 0, 0, 0, 0, 1, 0, 0, 0, 1, 1,\n",
       "       0, 0, 0, 0, 1, 0, 0, 0, 1, 1, 0, 1, 0, 0, 0, 0, 1, 1, 1, 1, 1, 0,\n",
       "       0, 0, 0, 0, 0, 1, 0, 0, 0, 0, 1, 0, 0, 0, 0, 0, 0, 0, 1, 1, 0, 0,\n",
       "       0, 1, 0, 0, 0, 1, 1, 1, 0, 0, 0, 0, 0, 0, 0, 0, 1, 0, 1, 0, 0, 0,\n",
       "       1, 0, 0, 1, 0, 0, 0, 0, 0, 1, 0, 0, 0, 1, 0, 1, 0, 1, 0, 1, 1, 0,\n",
       "       0, 0, 0, 0, 1, 0, 0, 1, 0, 1, 1, 0, 1, 0, 0, 1, 1, 0, 0, 1, 0, 0,\n",
       "       1, 1, 0, 0, 0, 0, 0, 0, 1, 1, 0, 1, 0, 0, 0, 0, 0, 1, 0, 0, 0, 1,\n",
       "       0, 1, 0, 0, 1, 0, 1, 0, 0, 0, 0, 0, 1, 1, 1, 1, 1, 0, 1, 0, 0, 1])"
      ]
     },
     "execution_count": 44,
     "metadata": {},
     "output_type": "execute_result"
    }
   ],
   "source": [
    "y_test_predicted = model.predict(X_test_full)\n",
    "y_test_predicted"
   ]
  },
  {
   "cell_type": "code",
   "execution_count": 45,
   "metadata": {
    "execution": {
     "iopub.execute_input": "2021-02-02T13:26:31.400770Z",
     "iopub.status.busy": "2021-02-02T13:26:31.400060Z",
     "iopub.status.idle": "2021-02-02T13:26:31.409854Z",
     "shell.execute_reply": "2021-02-02T13:26:31.409216Z"
    },
    "papermill": {
     "duration": 0.075435,
     "end_time": "2021-02-02T13:26:31.410010",
     "exception": false,
     "start_time": "2021-02-02T13:26:31.334575",
     "status": "completed"
    },
    "tags": []
   },
   "outputs": [],
   "source": [
    "sub = pd.DataFrame({\n",
    "    \"PassengerId\": comb[1]['PassengerId'],\n",
    "    \"Survived\": y_test_predicted\n",
    "})\n",
    "\n",
    "sub.to_csv('submission.csv', index = False)"
   ]
  }
 ],
 "metadata": {
  "kernelspec": {
   "display_name": "Python 3",
   "language": "python",
   "name": "python3"
  },
  "language_info": {
   "codemirror_mode": {
    "name": "ipython",
    "version": 3
   },
   "file_extension": ".py",
   "mimetype": "text/x-python",
   "name": "python",
   "nbconvert_exporter": "python",
   "pygments_lexer": "ipython3",
   "version": "3.7.9"
  },
  "papermill": {
   "default_parameters": {},
   "duration": 78.562724,
   "end_time": "2021-02-02T13:26:32.382328",
   "environment_variables": {},
   "exception": null,
   "input_path": "__notebook__.ipynb",
   "output_path": "__notebook__.ipynb",
   "parameters": {},
   "start_time": "2021-02-02T13:25:13.819604",
   "version": "2.2.2"
  }
 },
 "nbformat": 4,
 "nbformat_minor": 4
}
